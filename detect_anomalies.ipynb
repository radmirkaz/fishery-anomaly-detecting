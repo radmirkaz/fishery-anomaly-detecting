{
 "cells": [
  {
   "cell_type": "code",
   "execution_count": 289,
   "id": "837fe31e",
   "metadata": {},
   "outputs": [],
   "source": [
    "import pandas as pd\n",
    "from datetime import datetime, timedelta\n",
    "from tqdm import tqdm\n",
    "import collections"
   ]
  },
  {
   "cell_type": "code",
   "execution_count": 695,
   "id": "0f2aedc0",
   "metadata": {},
   "outputs": [],
   "source": [
    "import warnings\n",
    "warnings.filterwarnings(\"ignore\")"
   ]
  },
  {
   "cell_type": "markdown",
   "id": "e3e57a7b",
   "metadata": {},
   "source": [
    "## Read fish sellings"
   ]
  },
  {
   "cell_type": "code",
   "execution_count": 787,
   "id": "c922590c",
   "metadata": {},
   "outputs": [],
   "source": [
    "ext1 = pd.read_csv('db2/Ext.csv')"
   ]
  },
  {
   "cell_type": "code",
   "execution_count": 811,
   "id": "09619119",
   "metadata": {},
   "outputs": [],
   "source": [
    "ext2_unit = pd.read_csv('ext2_unit.csv')"
   ]
  },
  {
   "cell_type": "code",
   "execution_count": 815,
   "id": "bc6aec6e",
   "metadata": {},
   "outputs": [
    {
     "data": {
      "text/html": [
       "<div>\n",
       "<style scoped>\n",
       "    .dataframe tbody tr th:only-of-type {\n",
       "        vertical-align: middle;\n",
       "    }\n",
       "\n",
       "    .dataframe tbody tr th {\n",
       "        vertical-align: top;\n",
       "    }\n",
       "\n",
       "    .dataframe thead th {\n",
       "        text-align: right;\n",
       "    }\n",
       "</style>\n",
       "<table border=\"1\" class=\"dataframe\">\n",
       "  <thead>\n",
       "    <tr style=\"text-align: right;\">\n",
       "      <th></th>\n",
       "      <th>id_vsd</th>\n",
       "      <th>num_vsd</th>\n",
       "      <th>id_fish</th>\n",
       "      <th>fish</th>\n",
       "      <th>date</th>\n",
       "      <th>volume</th>\n",
       "      <th>unit</th>\n",
       "      <th>unit_old</th>\n",
       "      <th>bad_unit</th>\n",
       "      <th>id_Plat</th>\n",
       "    </tr>\n",
       "  </thead>\n",
       "  <tbody>\n",
       "    <tr>\n",
       "      <th>0</th>\n",
       "      <td>7820377</td>\n",
       "      <td>5278887</td>\n",
       "      <td>400</td>\n",
       "      <td>минтай</td>\n",
       "      <td>2022-01-01 00:39:56</td>\n",
       "      <td>75.480</td>\n",
       "      <td>кг</td>\n",
       "      <td>\\N</td>\n",
       "      <td>True</td>\n",
       "      <td>6289659.0</td>\n",
       "    </tr>\n",
       "    <tr>\n",
       "      <th>1</th>\n",
       "      <td>9397385</td>\n",
       "      <td>4729853</td>\n",
       "      <td>400</td>\n",
       "      <td>минтай</td>\n",
       "      <td>2022-01-01 01:34:08</td>\n",
       "      <td>62.586</td>\n",
       "      <td>кг</td>\n",
       "      <td>\\N</td>\n",
       "      <td>True</td>\n",
       "      <td>6291955.0</td>\n",
       "    </tr>\n",
       "    <tr>\n",
       "      <th>2</th>\n",
       "      <td>8666689</td>\n",
       "      <td>3907934</td>\n",
       "      <td>292</td>\n",
       "      <td>треска</td>\n",
       "      <td>2022-01-01 01:34:11</td>\n",
       "      <td>1.155</td>\n",
       "      <td>кг</td>\n",
       "      <td>\\N</td>\n",
       "      <td>True</td>\n",
       "      <td>6292599.0</td>\n",
       "    </tr>\n",
       "    <tr>\n",
       "      <th>3</th>\n",
       "      <td>6371297</td>\n",
       "      <td>5389594</td>\n",
       "      <td>400</td>\n",
       "      <td>минтай</td>\n",
       "      <td>2022-01-01 01:34:05</td>\n",
       "      <td>111.048</td>\n",
       "      <td>кг</td>\n",
       "      <td>\\N</td>\n",
       "      <td>True</td>\n",
       "      <td>6295511.0</td>\n",
       "    </tr>\n",
       "    <tr>\n",
       "      <th>4</th>\n",
       "      <td>7953288</td>\n",
       "      <td>5347700</td>\n",
       "      <td>88</td>\n",
       "      <td>окунь-клювач</td>\n",
       "      <td>2022-01-01 01:34:11</td>\n",
       "      <td>1.844</td>\n",
       "      <td>кг</td>\n",
       "      <td>\\N</td>\n",
       "      <td>True</td>\n",
       "      <td>6289797.0</td>\n",
       "    </tr>\n",
       "  </tbody>\n",
       "</table>\n",
       "</div>"
      ],
      "text/plain": [
       "    id_vsd  num_vsd  id_fish          fish                date   volume unit  \\\n",
       "0  7820377  5278887      400        минтай 2022-01-01 00:39:56   75.480   кг   \n",
       "1  9397385  4729853      400        минтай 2022-01-01 01:34:08   62.586   кг   \n",
       "2  8666689  3907934      292        треска 2022-01-01 01:34:11    1.155   кг   \n",
       "3  6371297  5389594      400        минтай 2022-01-01 01:34:05  111.048   кг   \n",
       "4  7953288  5347700       88  окунь-клювач 2022-01-01 01:34:11    1.844   кг   \n",
       "\n",
       "  unit_old  bad_unit    id_Plat  \n",
       "0       \\N      True  6289659.0  \n",
       "1       \\N      True  6291955.0  \n",
       "2       \\N      True  6292599.0  \n",
       "3       \\N      True  6295511.0  \n",
       "4       \\N      True  6289797.0  "
      ]
     },
     "execution_count": 815,
     "metadata": {},
     "output_type": "execute_result"
    }
   ],
   "source": [
    "fish = pd.read_csv('new_ext2.csv')\n",
    "del fish['Unnamed: 0']\n",
    "\n",
    "fish['unit_old'] = fish['unit'].copy()\n",
    "fish['unit'] = ext2_unit['bert']\n",
    "fish['date_vsd'] = pd.to_datetime(fish['date_vsd'])\n",
    "fish['volume'] /= fish['unit'].apply(lambda x: 1000 if x == 'кг' else 1)\n",
    "fish['bad_unit'] = fish['unit'] != fish['unit_old']\n",
    "fish = fish.merge(ext1[['id_Plat', 'id_vsd']], on='id_vsd', how='left')\n",
    "fish.rename(columns={'date_vsd': 'date'}, inplace=True)\n",
    "fish.head()"
   ]
  },
  {
   "cell_type": "markdown",
   "id": "ed464129",
   "metadata": {},
   "source": [
    "### Find duplicates in sellings"
   ]
  },
  {
   "cell_type": "code",
   "execution_count": 816,
   "id": "5e287c53",
   "metadata": {},
   "outputs": [],
   "source": [
    "def get_dublicate_anomalies(fish):\n",
    "    rm_indexes = np.zeros(len(fish)).astype(bool)\n",
    "    cnt = collections.defaultdict(int)\n",
    "    first_entry = collections.defaultdict(int)\n",
    "    for i, id_vsd in enumerate(fish['id_vsd']):\n",
    "        cnt[id_vsd] += 1\n",
    "        if cnt[id_vsd] >= 2:\n",
    "            rm_indexes[i] = 1\n",
    "        else:\n",
    "            first_entry[id_vsd] = i\n",
    "    \n",
    "    good = fish[~rm_indexes]\n",
    "    \n",
    "#     for i in range(len(fish)):\n",
    "#         if rm_indexes[i]:\n",
    "#             rm_indexes[first_entry[fish['id_vsd'][i]]] = 1\n",
    "            \n",
    "    return good, fish[rm_indexes]"
   ]
  },
  {
   "cell_type": "code",
   "execution_count": 817,
   "id": "830c66f6",
   "metadata": {},
   "outputs": [],
   "source": [
    "fish, bad = get_dublicate_anomalies(fish)"
   ]
  },
  {
   "cell_type": "code",
   "execution_count": 818,
   "id": "09541806",
   "metadata": {},
   "outputs": [
    {
     "data": {
      "text/html": [
       "<div>\n",
       "<style scoped>\n",
       "    .dataframe tbody tr th:only-of-type {\n",
       "        vertical-align: middle;\n",
       "    }\n",
       "\n",
       "    .dataframe tbody tr th {\n",
       "        vertical-align: top;\n",
       "    }\n",
       "\n",
       "    .dataframe thead th {\n",
       "        text-align: right;\n",
       "    }\n",
       "</style>\n",
       "<table border=\"1\" class=\"dataframe\">\n",
       "  <thead>\n",
       "    <tr style=\"text-align: right;\">\n",
       "      <th></th>\n",
       "      <th>id_vsd</th>\n",
       "      <th>num_vsd</th>\n",
       "      <th>id_fish</th>\n",
       "      <th>fish</th>\n",
       "      <th>date</th>\n",
       "      <th>volume</th>\n",
       "      <th>unit</th>\n",
       "      <th>unit_old</th>\n",
       "      <th>bad_unit</th>\n",
       "      <th>id_Plat</th>\n",
       "    </tr>\n",
       "  </thead>\n",
       "  <tbody>\n",
       "    <tr>\n",
       "      <th>2598615</th>\n",
       "      <td>6297082</td>\n",
       "      <td>5352651</td>\n",
       "      <td>408</td>\n",
       "      <td>пикша свежая</td>\n",
       "      <td>2022-03-10 03:37:55</td>\n",
       "      <td>1.000</td>\n",
       "      <td>тонна</td>\n",
       "      <td>тонна</td>\n",
       "      <td>False</td>\n",
       "      <td>6296656.0</td>\n",
       "    </tr>\n",
       "    <tr>\n",
       "      <th>2598614</th>\n",
       "      <td>6297082</td>\n",
       "      <td>5352651</td>\n",
       "      <td>408</td>\n",
       "      <td>пикша свежая</td>\n",
       "      <td>2022-03-10 03:37:55</td>\n",
       "      <td>1.000</td>\n",
       "      <td>тонна</td>\n",
       "      <td>тонна</td>\n",
       "      <td>False</td>\n",
       "      <td>6296656.0</td>\n",
       "    </tr>\n",
       "    <tr>\n",
       "      <th>54852</th>\n",
       "      <td>6297082</td>\n",
       "      <td>5352651</td>\n",
       "      <td>408</td>\n",
       "      <td>пикша</td>\n",
       "      <td>2022-03-10 03:37:55</td>\n",
       "      <td>1.104</td>\n",
       "      <td>кг</td>\n",
       "      <td>\\N</td>\n",
       "      <td>True</td>\n",
       "      <td>6296656.0</td>\n",
       "    </tr>\n",
       "    <tr>\n",
       "      <th>1781236</th>\n",
       "      <td>6297132</td>\n",
       "      <td>3224898</td>\n",
       "      <td>400</td>\n",
       "      <td>минтай</td>\n",
       "      <td>2022-03-09 04:18:55</td>\n",
       "      <td>0.181</td>\n",
       "      <td>кг</td>\n",
       "      <td>тонна</td>\n",
       "      <td>True</td>\n",
       "      <td>6292739.0</td>\n",
       "    </tr>\n",
       "    <tr>\n",
       "      <th>1781235</th>\n",
       "      <td>6297132</td>\n",
       "      <td>3224898</td>\n",
       "      <td>400</td>\n",
       "      <td>минтай</td>\n",
       "      <td>2022-03-09 04:18:55</td>\n",
       "      <td>0.181</td>\n",
       "      <td>кг</td>\n",
       "      <td>тонна</td>\n",
       "      <td>True</td>\n",
       "      <td>6292739.0</td>\n",
       "    </tr>\n",
       "    <tr>\n",
       "      <th>54124</th>\n",
       "      <td>6297132</td>\n",
       "      <td>3224898</td>\n",
       "      <td>400</td>\n",
       "      <td>минтай</td>\n",
       "      <td>2022-03-09 04:18:55</td>\n",
       "      <td>181.095</td>\n",
       "      <td>кг</td>\n",
       "      <td>\\N</td>\n",
       "      <td>True</td>\n",
       "      <td>6292739.0</td>\n",
       "    </tr>\n",
       "  </tbody>\n",
       "</table>\n",
       "</div>"
      ],
      "text/plain": [
       "          id_vsd  num_vsd  id_fish          fish                date   volume  \\\n",
       "2598615  6297082  5352651      408  пикша свежая 2022-03-10 03:37:55    1.000   \n",
       "2598614  6297082  5352651      408  пикша свежая 2022-03-10 03:37:55    1.000   \n",
       "54852    6297082  5352651      408         пикша 2022-03-10 03:37:55    1.104   \n",
       "1781236  6297132  3224898      400        минтай 2022-03-09 04:18:55    0.181   \n",
       "1781235  6297132  3224898      400        минтай 2022-03-09 04:18:55    0.181   \n",
       "54124    6297132  3224898      400        минтай 2022-03-09 04:18:55  181.095   \n",
       "\n",
       "          unit unit_old  bad_unit    id_Plat  \n",
       "2598615  тонна    тонна     False  6296656.0  \n",
       "2598614  тонна    тонна     False  6296656.0  \n",
       "54852       кг       \\N      True  6296656.0  \n",
       "1781236     кг    тонна      True  6292739.0  \n",
       "1781235     кг    тонна      True  6292739.0  \n",
       "54124       кг       \\N      True  6292739.0  "
      ]
     },
     "execution_count": 818,
     "metadata": {},
     "output_type": "execute_result"
    }
   ],
   "source": [
    "bad = bad.sort_values(by='id_vsd')\n",
    "bad.head(6)"
   ]
  },
  {
   "cell_type": "code",
   "execution_count": 819,
   "id": "b5a6f3b3",
   "metadata": {},
   "outputs": [],
   "source": [
    "bad.to_csv('duplicates.csv', index=False)"
   ]
  },
  {
   "cell_type": "markdown",
   "id": "ef2bda8a",
   "metadata": {},
   "source": [
    "### Add duplicates and wrong units in rating system"
   ]
  },
  {
   "cell_type": "code",
   "execution_count": 820,
   "id": "95ce8441",
   "metadata": {},
   "outputs": [
    {
     "data": {
      "text/html": [
       "<div>\n",
       "<style scoped>\n",
       "    .dataframe tbody tr th:only-of-type {\n",
       "        vertical-align: middle;\n",
       "    }\n",
       "\n",
       "    .dataframe tbody tr th {\n",
       "        vertical-align: top;\n",
       "    }\n",
       "\n",
       "    .dataframe thead th {\n",
       "        text-align: right;\n",
       "    }\n",
       "</style>\n",
       "<table border=\"1\" class=\"dataframe\">\n",
       "  <thead>\n",
       "    <tr style=\"text-align: right;\">\n",
       "      <th></th>\n",
       "      <th>id_Plat</th>\n",
       "      <th>date</th>\n",
       "      <th>id_fish</th>\n",
       "      <th>amount</th>\n",
       "      <th>anomaly_type</th>\n",
       "    </tr>\n",
       "  </thead>\n",
       "  <tbody>\n",
       "    <tr>\n",
       "      <th>0</th>\n",
       "      <td>6288840.0</td>\n",
       "      <td>2022-01-04</td>\n",
       "      <td>-1</td>\n",
       "      <td>0</td>\n",
       "      <td>bad_unit</td>\n",
       "    </tr>\n",
       "    <tr>\n",
       "      <th>1</th>\n",
       "      <td>6288840.0</td>\n",
       "      <td>2022-01-04</td>\n",
       "      <td>7</td>\n",
       "      <td>0</td>\n",
       "      <td>bad_unit</td>\n",
       "    </tr>\n",
       "    <tr>\n",
       "      <th>2</th>\n",
       "      <td>6288840.0</td>\n",
       "      <td>2022-01-04</td>\n",
       "      <td>43</td>\n",
       "      <td>0</td>\n",
       "      <td>bad_unit</td>\n",
       "    </tr>\n",
       "    <tr>\n",
       "      <th>3</th>\n",
       "      <td>6288840.0</td>\n",
       "      <td>2022-01-04</td>\n",
       "      <td>216</td>\n",
       "      <td>0</td>\n",
       "      <td>bad_unit</td>\n",
       "    </tr>\n",
       "    <tr>\n",
       "      <th>4</th>\n",
       "      <td>6288840.0</td>\n",
       "      <td>2022-01-05</td>\n",
       "      <td>-1</td>\n",
       "      <td>0</td>\n",
       "      <td>bad_unit</td>\n",
       "    </tr>\n",
       "  </tbody>\n",
       "</table>\n",
       "</div>"
      ],
      "text/plain": [
       "     id_Plat        date  id_fish  amount anomaly_type\n",
       "0  6288840.0  2022-01-04       -1       0     bad_unit\n",
       "1  6288840.0  2022-01-04        7       0     bad_unit\n",
       "2  6288840.0  2022-01-04       43       0     bad_unit\n",
       "3  6288840.0  2022-01-04      216       0     bad_unit\n",
       "4  6288840.0  2022-01-05       -1       0     bad_unit"
      ]
     },
     "execution_count": 820,
     "metadata": {},
     "output_type": "execute_result"
    }
   ],
   "source": [
    "bad_units = fish.groupby(['id_Plat', fish['date'].dt.date, fish['id_fish']])['bad_unit'].sum().reset_index()\n",
    "bad_units.rename(columns={'bad_unit': 'amount'}, inplace=True)\n",
    "bad_units['anomaly_type'] = 'bad_unit'\n",
    "bad_units.head()"
   ]
  },
  {
   "cell_type": "code",
   "execution_count": 824,
   "id": "b399fa8b",
   "metadata": {},
   "outputs": [
    {
     "data": {
      "text/plain": [
       "69596"
      ]
     },
     "execution_count": 824,
     "metadata": {},
     "output_type": "execute_result"
    }
   ],
   "source": [
    "bad_units['amount'].sum()"
   ]
  },
  {
   "cell_type": "code",
   "execution_count": 821,
   "id": "de776186",
   "metadata": {},
   "outputs": [
    {
     "data": {
      "text/html": [
       "<div>\n",
       "<style scoped>\n",
       "    .dataframe tbody tr th:only-of-type {\n",
       "        vertical-align: middle;\n",
       "    }\n",
       "\n",
       "    .dataframe tbody tr th {\n",
       "        vertical-align: top;\n",
       "    }\n",
       "\n",
       "    .dataframe thead th {\n",
       "        text-align: right;\n",
       "    }\n",
       "</style>\n",
       "<table border=\"1\" class=\"dataframe\">\n",
       "  <thead>\n",
       "    <tr style=\"text-align: right;\">\n",
       "      <th></th>\n",
       "      <th>id_Plat</th>\n",
       "      <th>date</th>\n",
       "      <th>id_fish</th>\n",
       "      <th>volume</th>\n",
       "      <th>anomaly_type</th>\n",
       "    </tr>\n",
       "  </thead>\n",
       "  <tbody>\n",
       "    <tr>\n",
       "      <th>0</th>\n",
       "      <td>6288893.0</td>\n",
       "      <td>2022-02-05</td>\n",
       "      <td>16</td>\n",
       "      <td>2</td>\n",
       "      <td>duplicate</td>\n",
       "    </tr>\n",
       "    <tr>\n",
       "      <th>1</th>\n",
       "      <td>6288893.0</td>\n",
       "      <td>2022-02-05</td>\n",
       "      <td>292</td>\n",
       "      <td>1</td>\n",
       "      <td>duplicate</td>\n",
       "    </tr>\n",
       "    <tr>\n",
       "      <th>2</th>\n",
       "      <td>6288893.0</td>\n",
       "      <td>2022-02-05</td>\n",
       "      <td>408</td>\n",
       "      <td>3</td>\n",
       "      <td>duplicate</td>\n",
       "    </tr>\n",
       "    <tr>\n",
       "      <th>3</th>\n",
       "      <td>6288893.0</td>\n",
       "      <td>2022-03-07</td>\n",
       "      <td>16</td>\n",
       "      <td>2</td>\n",
       "      <td>duplicate</td>\n",
       "    </tr>\n",
       "    <tr>\n",
       "      <th>4</th>\n",
       "      <td>6288893.0</td>\n",
       "      <td>2022-03-07</td>\n",
       "      <td>126</td>\n",
       "      <td>2</td>\n",
       "      <td>duplicate</td>\n",
       "    </tr>\n",
       "  </tbody>\n",
       "</table>\n",
       "</div>"
      ],
      "text/plain": [
       "     id_Plat        date  id_fish  volume anomaly_type\n",
       "0  6288893.0  2022-02-05       16       2    duplicate\n",
       "1  6288893.0  2022-02-05      292       1    duplicate\n",
       "2  6288893.0  2022-02-05      408       3    duplicate\n",
       "3  6288893.0  2022-03-07       16       2    duplicate\n",
       "4  6288893.0  2022-03-07      126       2    duplicate"
      ]
     },
     "execution_count": 821,
     "metadata": {},
     "output_type": "execute_result"
    }
   ],
   "source": [
    "duplicates = bad.groupby(['id_Plat', bad['date'].dt.date, bad['id_fish']])['volume'].count().reset_index()\n",
    "duplicates.rename(columns={'volume': 'amount'})\n",
    "duplicates['anomaly_type'] = 'duplicate'\n",
    "duplicates.head()"
   ]
  },
  {
   "cell_type": "markdown",
   "id": "42bbadde",
   "metadata": {},
   "source": [
    "## Read shipment data"
   ]
  },
  {
   "cell_type": "code",
   "execution_count": 822,
   "id": "b962c5ac",
   "metadata": {},
   "outputs": [],
   "source": [
    "import plotly.express as px\n",
    "import numpy as np"
   ]
  },
  {
   "cell_type": "code",
   "execution_count": 823,
   "id": "9515bc91",
   "metadata": {},
   "outputs": [
    {
     "data": {
      "text/html": [
       "<div>\n",
       "<style scoped>\n",
       "    .dataframe tbody tr th:only-of-type {\n",
       "        vertical-align: middle;\n",
       "    }\n",
       "\n",
       "    .dataframe tbody tr th {\n",
       "        vertical-align: top;\n",
       "    }\n",
       "\n",
       "    .dataframe thead th {\n",
       "        text-align: right;\n",
       "    }\n",
       "</style>\n",
       "<table border=\"1\" class=\"dataframe\">\n",
       "  <thead>\n",
       "    <tr style=\"text-align: right;\">\n",
       "      <th></th>\n",
       "      <th>id_ves</th>\n",
       "      <th>id_prod_type</th>\n",
       "      <th>date</th>\n",
       "      <th>volume</th>\n",
       "      <th>id_fish</th>\n",
       "    </tr>\n",
       "  </thead>\n",
       "  <tbody>\n",
       "    <tr>\n",
       "      <th>0</th>\n",
       "      <td>1610</td>\n",
       "      <td>10128</td>\n",
       "      <td>2022-01-07</td>\n",
       "      <td>9.385</td>\n",
       "      <td>292</td>\n",
       "    </tr>\n",
       "    <tr>\n",
       "      <th>1</th>\n",
       "      <td>1610</td>\n",
       "      <td>10128</td>\n",
       "      <td>2022-02-01</td>\n",
       "      <td>1.604</td>\n",
       "      <td>292</td>\n",
       "    </tr>\n",
       "    <tr>\n",
       "      <th>2</th>\n",
       "      <td>1610</td>\n",
       "      <td>10128</td>\n",
       "      <td>2022-02-24</td>\n",
       "      <td>3.418</td>\n",
       "      <td>292</td>\n",
       "    </tr>\n",
       "    <tr>\n",
       "      <th>3</th>\n",
       "      <td>1610</td>\n",
       "      <td>10128</td>\n",
       "      <td>2022-04-05</td>\n",
       "      <td>4.992</td>\n",
       "      <td>292</td>\n",
       "    </tr>\n",
       "    <tr>\n",
       "      <th>4</th>\n",
       "      <td>1610</td>\n",
       "      <td>10128</td>\n",
       "      <td>2022-04-21</td>\n",
       "      <td>6.247</td>\n",
       "      <td>292</td>\n",
       "    </tr>\n",
       "  </tbody>\n",
       "</table>\n",
       "</div>"
      ],
      "text/plain": [
       "   id_ves  id_prod_type       date  volume  id_fish\n",
       "0    1610         10128 2022-01-07   9.385      292\n",
       "1    1610         10128 2022-02-01   1.604      292\n",
       "2    1610         10128 2022-02-24   3.418      292\n",
       "3    1610         10128 2022-04-05   4.992      292\n",
       "4    1610         10128 2022-04-21   6.247      292"
      ]
     },
     "execution_count": 823,
     "metadata": {},
     "output_type": "execute_result"
    }
   ],
   "source": [
    "shipment = pd.read_csv('shipment_dates_test.csv')\n",
    "shipment.columns = [el.replace('.', '_') for el in shipment.columns]\n",
    "shipment.rename(columns={'prod_board_volume': 'volume'}, inplace=True)\n",
    "shipment['date'] = pd.to_datetime(shipment['date'])\n",
    "shipment = shipment.merge(pd.read_csv('db1/ref/prod_type.csv', sep=';')[['id_prod_type', 'id_fish']], on = 'id_prod_type')\n",
    "del shipment['Unnamed: 0']\n",
    "shipment.head()"
   ]
  },
  {
   "cell_type": "markdown",
   "id": "c459467e",
   "metadata": {},
   "source": [
    "### Utils for anomalies detecting"
   ]
  },
  {
   "cell_type": "code",
   "execution_count": 854,
   "id": "8fbe71a6",
   "metadata": {},
   "outputs": [],
   "source": [
    "def find_anomalies(shipment, sell, fish_aliving=3, threshold=1000):\n",
    "    shipment = shipment.copy()\n",
    "    sell = sell.copy()\n",
    "    \n",
    "    shipment['t'] = 'shipment'\n",
    "    sell['t'] = 'sells'\n",
    "    sell['date'] += timedelta(seconds=1)\n",
    "    \n",
    "    data = pd.concat([shipment, sell], axis=0)\n",
    "    data['date'] = pd.to_datetime(data['date'])\n",
    "    data = data.sort_values(by='date')\n",
    "    anomaly = {'over_sell': [], # sold more than arrived in last <fish_aliving> days\n",
    "               'under_sell': [] # <fish_aliving> days has been spent, but it wasn't sold\n",
    "              }\n",
    "    \n",
    "    for_sell = []\n",
    "    sells_parts = collections.defaultdict(list)\n",
    "    sum_left_in_shop = []\n",
    "    uniq_dates = np.unique([data.iloc[i]['date'].strftime('%Y-%m-%d') for i in range(len(data))])\n",
    "    uniq_dates = np.sort(uniq_dates)\n",
    "    pt_dates = 0\n",
    "    \n",
    "    for i in range(len(data)):\n",
    "        el = data.iloc[i]\n",
    "        \n",
    "        if el['t'] == 'shipment': \n",
    "            for_sell.append([el['date'], el['volume']])\n",
    "            if pt_dates < len(uniq_dates) and el['date'].strftime('%Y-%m-%d') == uniq_dates[pt_dates]:\n",
    "                sum_left_in_shop.append({'date': el['date'].strftime('%Y-%m-%d'), 'volume': sum([el[1] for el in for_sell])})\n",
    "                pt_dates += 1\n",
    "        else:\n",
    "            if pt_dates < len(uniq_dates) and el['date'].strftime('%Y-%m-%d') == uniq_dates[pt_dates]:\n",
    "                sum_left_in_shop.append({'date': el['date'].strftime('%Y-%m-%d'), 'volume': sum([el[1] for el in for_sell])})\n",
    "                pt_dates += 1\n",
    "                \n",
    "            while len(for_sell) and el['date'] - for_sell[0][0] > timedelta(days=fish_aliving):\n",
    "                if for_sell[0][1]:\n",
    "                    now = el\n",
    "                    now['volume'] = for_sell[0][1]\n",
    "                    anomaly['under_sell'].append(now)\n",
    "                    \n",
    "                for_sell = for_sell[1:]\n",
    "            \n",
    "            now_parts = []\n",
    "            for i in range(len(for_sell)):\n",
    "                x = min(for_sell[i][1], el['volume'])\n",
    "                now_parts.append({'from': for_sell[i][0].strftime('%Y-%m-%d'), 'volume': x})\n",
    "                for_sell[i][1] -= x\n",
    "                el['volume'] -= x\n",
    "                if el['volume'] == 0:\n",
    "                    break\n",
    "                    \n",
    "            sells_parts[el['date'].strftime('%Y-%m-%d')] += now_parts\n",
    "            if el['volume'] > 0:\n",
    "                anomaly['over_sell'].append(el)\n",
    "    \n",
    "    \n",
    "    anomaly['under_sell'] = [el for el in anomaly['under_sell'] if el['volume'] > threshold]\n",
    "    anomaly['over_sell'] = [el for el in anomaly['over_sell'] if el['volume'] > threshold]\n",
    "    return anomaly, dict(sells_parts), pd.DataFrame(sum_left_in_shop)"
   ]
  },
  {
   "cell_type": "code",
   "execution_count": 826,
   "id": "1fcce8c5",
   "metadata": {},
   "outputs": [],
   "source": [
    "def detect_outliers(data):\n",
    "    std = data.std()\n",
    "    mean = data.mean()\n",
    "    return (data > mean + 2 * std) | (data < mean - 2 * std)"
   ]
  },
  {
   "cell_type": "markdown",
   "id": "cc367ea8",
   "metadata": {},
   "source": [
    "### Find anomalies by all fishes"
   ]
  },
  {
   "cell_type": "code",
   "execution_count": 827,
   "id": "2fee4e0c",
   "metadata": {},
   "outputs": [],
   "source": [
    "def get_one_fish(fish_id):\n",
    "    one_fish_sell = fish[fish['id_fish'] == fish_id][['date', 'volume', 'id_Plat']]\n",
    "    one_fish_sell = one_fish_sell.groupby([one_fish_sell['date'].dt.date])['volume'].sum().reset_index()\n",
    "    one_fish_sell['t'] = 'sells'\n",
    "    \n",
    "    one_fish_shipment = shipment[shipment['id_fish'] == fish_id]\n",
    "    one_fish_shipment = one_fish_shipment.sort_values('date')\n",
    "    one_fish_shipment = one_fish_shipment.groupby('date')['volume'].sum().reset_index()\n",
    "    one_fish_shipment['t'] = 'shipment'\n",
    "    return one_fish_sell, one_fish_shipment"
   ]
  },
  {
   "cell_type": "code",
   "execution_count": 835,
   "id": "9bb6b86b",
   "metadata": {},
   "outputs": [],
   "source": [
    "one_fish_sell, one_fish_shipment = get_one_fish(400)"
   ]
  },
  {
   "cell_type": "code",
   "execution_count": 840,
   "id": "226a15f8",
   "metadata": {},
   "outputs": [
    {
     "data": {
      "application/vnd.plotly.v1+json": {
       "config": {
        "plotlyServerURL": "https://plot.ly"
       },
       "data": [
        {
         "hovertemplate": "t=sells<br>date=%{x}<br>volume=%{y}<extra></extra>",
         "legendgroup": "sells",
         "line": {
          "color": "#636efa",
          "dash": "solid"
         },
         "marker": {
          "symbol": "circle"
         },
         "mode": "lines",
         "name": "sells",
         "orientation": "v",
         "showlegend": true,
         "type": "scatter",
         "x": [
          "2022-01-01T00:00:00",
          "2022-01-02T00:00:00",
          "2022-01-03T00:00:00",
          "2022-01-04T00:00:00",
          "2022-01-05T00:00:00",
          "2022-01-06T00:00:00",
          "2022-01-07T00:00:00",
          "2022-01-08T00:00:00",
          "2022-01-09T00:00:00",
          "2022-01-10T00:00:00",
          "2022-01-11T00:00:00",
          "2022-01-12T00:00:00",
          "2022-01-13T00:00:00",
          "2022-01-14T00:00:00",
          "2022-01-15T00:00:00",
          "2022-01-16T00:00:00",
          "2022-01-17T00:00:00",
          "2022-01-18T00:00:00",
          "2022-01-19T00:00:00",
          "2022-01-20T00:00:00",
          "2022-01-21T00:00:00",
          "2022-01-22T00:00:00",
          "2022-01-23T00:00:00",
          "2022-01-24T00:00:00",
          "2022-01-25T00:00:00",
          "2022-01-26T00:00:00",
          "2022-01-27T00:00:00",
          "2022-01-28T00:00:00",
          "2022-01-29T00:00:00",
          "2022-01-30T00:00:00",
          "2022-01-31T00:00:00",
          "2022-02-01T00:00:00",
          "2022-02-02T00:00:00",
          "2022-02-03T00:00:00",
          "2022-02-04T00:00:00",
          "2022-02-05T00:00:00",
          "2022-02-06T00:00:00",
          "2022-02-07T00:00:00",
          "2022-02-08T00:00:00",
          "2022-02-09T00:00:00",
          "2022-02-10T00:00:00",
          "2022-02-11T00:00:00",
          "2022-02-12T00:00:00",
          "2022-02-13T00:00:00",
          "2022-02-14T00:00:00",
          "2022-02-15T00:00:00",
          "2022-02-16T00:00:00",
          "2022-02-17T00:00:00",
          "2022-02-18T00:00:00",
          "2022-02-19T00:00:00",
          "2022-02-20T00:00:00",
          "2022-02-21T00:00:00",
          "2022-02-22T00:00:00",
          "2022-02-23T00:00:00",
          "2022-02-24T00:00:00",
          "2022-02-25T00:00:00",
          "2022-02-26T00:00:00",
          "2022-02-27T00:00:00",
          "2022-02-28T00:00:00",
          "2022-03-01T00:00:00",
          "2022-03-02T00:00:00",
          "2022-03-03T00:00:00",
          "2022-03-04T00:00:00",
          "2022-03-05T00:00:00",
          "2022-03-06T00:00:00",
          "2022-03-07T00:00:00",
          "2022-03-08T00:00:00",
          "2022-03-09T00:00:00",
          "2022-03-10T00:00:00",
          "2022-03-11T00:00:00",
          "2022-03-12T00:00:00",
          "2022-03-13T00:00:00",
          "2022-03-14T00:00:00",
          "2022-03-15T00:00:00",
          "2022-03-16T00:00:00",
          "2022-03-17T00:00:00",
          "2022-03-18T00:00:00",
          "2022-03-19T00:00:00",
          "2022-03-20T00:00:00",
          "2022-03-21T00:00:00",
          "2022-03-22T00:00:00",
          "2022-03-23T00:00:00",
          "2022-03-24T00:00:00",
          "2022-03-25T00:00:00",
          "2022-03-26T00:00:00",
          "2022-03-27T00:00:00",
          "2022-03-28T00:00:00",
          "2022-03-29T00:00:00",
          "2022-03-30T00:00:00",
          "2022-03-31T00:00:00",
          "2022-04-01T00:00:00",
          "2022-04-02T00:00:00",
          "2022-04-03T00:00:00",
          "2022-04-04T00:00:00",
          "2022-04-05T00:00:00",
          "2022-04-06T00:00:00",
          "2022-04-07T00:00:00",
          "2022-04-08T00:00:00",
          "2022-04-09T00:00:00",
          "2022-04-10T00:00:00",
          "2022-04-11T00:00:00",
          "2022-04-12T00:00:00",
          "2022-04-13T00:00:00",
          "2022-04-14T00:00:00",
          "2022-04-15T00:00:00",
          "2022-04-16T00:00:00",
          "2022-04-17T00:00:00",
          "2022-04-18T00:00:00",
          "2022-04-19T00:00:00",
          "2022-04-20T00:00:00",
          "2022-04-21T00:00:00",
          "2022-04-22T00:00:00",
          "2022-04-23T00:00:00",
          "2022-04-24T00:00:00",
          "2022-04-25T00:00:00",
          "2022-04-26T00:00:00",
          "2022-04-27T00:00:00",
          "2022-04-28T00:00:00",
          "2022-04-29T00:00:00",
          "2022-04-30T00:00:00",
          "2022-05-01T00:00:00",
          "2022-05-02T00:00:00",
          "2022-05-03T00:00:00",
          "2022-05-04T00:00:00",
          "2022-05-06T00:00:00",
          "2022-05-07T00:00:00",
          "2022-05-08T00:00:00",
          "2022-05-09T00:00:00",
          "2022-05-10T00:00:00",
          "2022-05-11T00:00:00",
          "2022-05-12T00:00:00",
          "2022-05-13T00:00:00",
          "2022-05-14T00:00:00",
          "2022-05-15T00:00:00",
          "2022-05-16T00:00:00",
          "2022-05-17T00:00:00",
          "2022-05-18T00:00:00",
          "2022-05-19T00:00:00",
          "2022-05-20T00:00:00",
          "2022-05-21T00:00:00",
          "2022-05-22T00:00:00",
          "2022-05-23T00:00:00",
          "2022-05-24T00:00:00",
          "2022-05-25T00:00:00"
         ],
         "xaxis": "x",
         "y": [
          1588.126,
          4347.008,
          3072.808,
          4608.687,
          2802.052,
          8640.698,
          6198.168,
          4094.599,
          5027.626,
          13003.418,
          7078.392,
          11424.218,
          6891.002,
          10181.585000000001,
          5498.772,
          3251.793,
          8837.593,
          9509.665,
          10444.099,
          7173.215,
          7347.283,
          6487.1359999999995,
          6283.167,
          12171.5,
          21663.781,
          10117.826000000001,
          6359.374,
          14280.308,
          6901.383,
          7896.545,
          17097.825,
          14055.874,
          8904.711,
          10583.049,
          11830.282,
          5548.468,
          6648.585,
          17824.477,
          14547.675,
          14594.53,
          16323.728,
          16804.555,
          11288.204,
          8618.94,
          15745.003,
          11954.94,
          15858.956,
          12232.731,
          11666.63,
          7613.407,
          9114.831,
          20226.859,
          13876.922,
          4894.624,
          5227.843,
          7691.726,
          5125.37,
          10074.393,
          20454.459,
          20420.929,
          17071.147,
          14359.909,
          20783.647,
          16537.584,
          7092.861,
          15106.342,
          10848.509,
          27421.721,
          9124.573,
          15802.983,
          9247.221,
          10659.765,
          19828.147,
          14381.481,
          13572.884,
          16565.778,
          14474.399,
          11762.35,
          10600.806,
          22407.175,
          11798.603000000001,
          9025.308,
          12054.245,
          14031.934,
          9057.272,
          9304.769,
          18870.241,
          18645.885,
          10393.021999999999,
          11979.199,
          13357.645,
          3540.704,
          7161.139,
          15670.664999999999,
          17769.752,
          12252.487,
          11844.721,
          13978.33,
          8523.034,
          8760.133,
          11212.101,
          3916.82,
          5515.485,
          6627.193,
          4528.53,
          1346.279,
          4564.743,
          5963.637,
          5254.866,
          1903.259,
          502.874,
          551.456,
          622.275,
          1023.988,
          1079.936,
          1637.501,
          1308.834,
          1179.317,
          830.955,
          312.492,
          297.32099999999997,
          858.63,
          1366.026,
          933.749,
          2466.309,
          687.846,
          629.071,
          694.983,
          865.1809999999999,
          753.176,
          1024.374,
          1241.441,
          946.977,
          1783.2259999999999,
          1230.76,
          1001.095,
          1297.7359999999999,
          1161.776,
          1273.364,
          401.96299999999997,
          1072.677,
          1744.3519999999999,
          2007.857,
          1055.699
         ],
         "yaxis": "y"
        },
        {
         "hovertemplate": "t=shipment<br>date=%{x}<br>volume=%{y}<extra></extra>",
         "legendgroup": "shipment",
         "line": {
          "color": "#EF553B",
          "dash": "solid"
         },
         "marker": {
          "symbol": "circle"
         },
         "mode": "lines",
         "name": "shipment",
         "orientation": "v",
         "showlegend": true,
         "type": "scatter",
         "x": [
          "2022-01-01T00:00:00",
          "2022-01-02T00:00:00",
          "2022-01-03T00:00:00",
          "2022-01-04T00:00:00",
          "2022-01-05T00:00:00",
          "2022-01-06T00:00:00",
          "2022-01-07T00:00:00",
          "2022-01-08T00:00:00",
          "2022-01-09T00:00:00",
          "2022-01-10T00:00:00",
          "2022-01-11T00:00:00",
          "2022-01-12T00:00:00",
          "2022-01-13T00:00:00",
          "2022-01-14T00:00:00",
          "2022-01-15T00:00:00",
          "2022-01-16T00:00:00",
          "2022-01-17T00:00:00",
          "2022-01-18T00:00:00",
          "2022-01-19T00:00:00",
          "2022-01-20T00:00:00",
          "2022-01-21T00:00:00",
          "2022-01-22T00:00:00",
          "2022-01-23T00:00:00",
          "2022-01-24T00:00:00",
          "2022-01-25T00:00:00",
          "2022-01-26T00:00:00",
          "2022-01-27T00:00:00",
          "2022-01-28T00:00:00",
          "2022-01-29T00:00:00",
          "2022-01-30T00:00:00",
          "2022-01-31T00:00:00",
          "2022-02-01T00:00:00",
          "2022-02-02T00:00:00",
          "2022-02-03T00:00:00",
          "2022-02-04T00:00:00",
          "2022-02-05T00:00:00",
          "2022-02-06T00:00:00",
          "2022-02-07T00:00:00",
          "2022-02-08T00:00:00",
          "2022-02-09T00:00:00",
          "2022-02-10T00:00:00",
          "2022-02-11T00:00:00",
          "2022-02-12T00:00:00",
          "2022-02-13T00:00:00",
          "2022-02-14T00:00:00",
          "2022-02-15T00:00:00",
          "2022-02-16T00:00:00",
          "2022-02-17T00:00:00",
          "2022-02-18T00:00:00",
          "2022-02-19T00:00:00",
          "2022-02-20T00:00:00",
          "2022-02-21T00:00:00",
          "2022-02-22T00:00:00",
          "2022-02-23T00:00:00",
          "2022-02-24T00:00:00",
          "2022-02-25T00:00:00",
          "2022-02-26T00:00:00",
          "2022-02-27T00:00:00",
          "2022-02-28T00:00:00",
          "2022-03-01T00:00:00",
          "2022-03-02T00:00:00",
          "2022-03-03T00:00:00",
          "2022-03-04T00:00:00",
          "2022-03-05T00:00:00",
          "2022-03-06T00:00:00",
          "2022-03-07T00:00:00",
          "2022-03-08T00:00:00",
          "2022-03-09T00:00:00",
          "2022-03-10T00:00:00",
          "2022-03-11T00:00:00",
          "2022-03-12T00:00:00",
          "2022-03-13T00:00:00",
          "2022-03-14T00:00:00",
          "2022-03-15T00:00:00",
          "2022-03-16T00:00:00",
          "2022-03-17T00:00:00",
          "2022-03-18T00:00:00",
          "2022-03-19T00:00:00",
          "2022-03-20T00:00:00",
          "2022-03-21T00:00:00",
          "2022-03-22T00:00:00",
          "2022-03-23T00:00:00",
          "2022-03-24T00:00:00",
          "2022-03-25T00:00:00",
          "2022-03-26T00:00:00",
          "2022-03-27T00:00:00",
          "2022-03-28T00:00:00",
          "2022-03-29T00:00:00",
          "2022-03-30T00:00:00",
          "2022-03-31T00:00:00",
          "2022-04-01T00:00:00",
          "2022-04-02T00:00:00",
          "2022-04-03T00:00:00",
          "2022-04-04T00:00:00",
          "2022-04-05T00:00:00",
          "2022-04-06T00:00:00",
          "2022-04-07T00:00:00",
          "2022-04-08T00:00:00",
          "2022-04-09T00:00:00",
          "2022-04-10T00:00:00",
          "2022-04-11T00:00:00",
          "2022-04-12T00:00:00",
          "2022-04-13T00:00:00",
          "2022-04-14T00:00:00",
          "2022-04-15T00:00:00",
          "2022-04-16T00:00:00",
          "2022-04-17T00:00:00",
          "2022-04-18T00:00:00",
          "2022-04-19T00:00:00",
          "2022-04-20T00:00:00",
          "2022-04-21T00:00:00",
          "2022-04-22T00:00:00",
          "2022-04-23T00:00:00",
          "2022-04-24T00:00:00",
          "2022-04-25T00:00:00",
          "2022-04-26T00:00:00",
          "2022-04-27T00:00:00",
          "2022-04-28T00:00:00",
          "2022-04-29T00:00:00",
          "2022-04-30T00:00:00",
          "2022-05-01T00:00:00",
          "2022-05-02T00:00:00",
          "2022-05-03T00:00:00",
          "2022-05-04T00:00:00",
          "2022-05-05T00:00:00",
          "2022-05-06T00:00:00",
          "2022-05-07T00:00:00",
          "2022-05-08T00:00:00",
          "2022-05-09T00:00:00",
          "2022-05-10T00:00:00",
          "2022-05-11T00:00:00",
          "2022-05-12T00:00:00",
          "2022-05-13T00:00:00",
          "2022-05-14T00:00:00",
          "2022-05-15T00:00:00",
          "2022-05-17T00:00:00",
          "2022-05-18T00:00:00",
          "2022-05-19T00:00:00",
          "2022-05-20T00:00:00",
          "2022-05-21T00:00:00",
          "2022-05-22T00:00:00",
          "2022-05-23T00:00:00",
          "2022-05-24T00:00:00",
          "2022-05-25T00:00:00"
         ],
         "xaxis": "x",
         "y": [
          5427.243552,
          3697.807036,
          7534.925352,
          20687.523994,
          13809.3582,
          16343.693346,
          5300.897442,
          5657.572864,
          11355.0258,
          7228.906956,
          6896.045556000001,
          15346.576872000001,
          3059.665,
          955.932,
          7917.6285,
          9536.376199999999,
          6306.374772,
          9564.96531,
          12039.070926,
          9631.956963999999,
          7610.573304,
          15407.253858,
          16559.305964,
          24924.388251999997,
          20483.673749999998,
          17798.523436,
          3665.884396,
          1095.481,
          3494.715532,
          4228.296228,
          20148.341954,
          10501.800426,
          23908.00277,
          19367.23844,
          23937.629264,
          13962.112724,
          22717.22384,
          14897.75805,
          7002.224856,
          7410.284097,
          10971.90306,
          13133.680112,
          15137.841688,
          16331.994875999999,
          15106.737068,
          5887.560808,
          23297.049196,
          9012.7957,
          28229.503402,
          31099.656828,
          19348.5317,
          6691.203416,
          5972.5321,
          10759.25618,
          25735.7195,
          9263.226178,
          22864.848808,
          5754.5412,
          13439.816176,
          16241.725976,
          10752.809036,
          14004.881576,
          18037.128866,
          24824.842716,
          22612.720548,
          33430.105932,
          18977.503954,
          11562.009096,
          15110.488152,
          7050.11516,
          11353.132118,
          15192.912268,
          21151.479374,
          38542.971860000005,
          17295.511328,
          13275.46495,
          31067.821722,
          19326.455306,
          17258.856662000002,
          7715.015,
          15738.28954,
          19817.018176,
          24039.320634,
          9705.0697,
          23378.095903999998,
          10052.345124,
          10421.218499999999,
          34116.636676,
          9600.091064,
          18128.56426,
          17078.767084,
          27480.316428,
          29960.511032000002,
          20315.20092,
          15761.804612,
          11077.8915,
          7930.839,
          8587.613070000001,
          8518.211908,
          8561.409652,
          10433.38478,
          26505.904,
          13545.88113,
          18026.630941,
          22534.690806,
          6527.2815,
          13633.027648000001,
          9353.5114,
          11046.325732000001,
          20069.5249,
          1000.526852,
          4344.65232,
          6637.883724,
          9654.19743,
          693.087,
          1723.2325,
          675.8054999999999,
          13612.9688,
          4351.5777,
          699.03308,
          6111.52856,
          1087.649168,
          4416.530684,
          4065.46,
          6288.0059,
          6687.9085000000005,
          3777.4193999999998,
          8159.400808,
          5785.4436000000005,
          4858.660100000001,
          9256.33416,
          195.18760000000003,
          2033.318,
          8.617,
          360.812,
          2770.1675,
          4505.0261,
          1076.256476,
          401.462,
          4406.6273360000005,
          1925.3825000000002,
          3416.6964,
          3371.754,
          1614.3600000000001
         ],
         "yaxis": "y"
        }
       ],
       "layout": {
        "autosize": true,
        "legend": {
         "title": {
          "text": "t"
         },
         "tracegroupgap": 0
        },
        "margin": {
         "t": 60
        },
        "template": {
         "data": {
          "bar": [
           {
            "error_x": {
             "color": "#2a3f5f"
            },
            "error_y": {
             "color": "#2a3f5f"
            },
            "marker": {
             "line": {
              "color": "#E5ECF6",
              "width": 0.5
             },
             "pattern": {
              "fillmode": "overlay",
              "size": 10,
              "solidity": 0.2
             }
            },
            "type": "bar"
           }
          ],
          "barpolar": [
           {
            "marker": {
             "line": {
              "color": "#E5ECF6",
              "width": 0.5
             },
             "pattern": {
              "fillmode": "overlay",
              "size": 10,
              "solidity": 0.2
             }
            },
            "type": "barpolar"
           }
          ],
          "carpet": [
           {
            "aaxis": {
             "endlinecolor": "#2a3f5f",
             "gridcolor": "white",
             "linecolor": "white",
             "minorgridcolor": "white",
             "startlinecolor": "#2a3f5f"
            },
            "baxis": {
             "endlinecolor": "#2a3f5f",
             "gridcolor": "white",
             "linecolor": "white",
             "minorgridcolor": "white",
             "startlinecolor": "#2a3f5f"
            },
            "type": "carpet"
           }
          ],
          "choropleth": [
           {
            "colorbar": {
             "outlinewidth": 0,
             "ticks": ""
            },
            "type": "choropleth"
           }
          ],
          "contour": [
           {
            "colorbar": {
             "outlinewidth": 0,
             "ticks": ""
            },
            "colorscale": [
             [
              0,
              "#0d0887"
             ],
             [
              0.1111111111111111,
              "#46039f"
             ],
             [
              0.2222222222222222,
              "#7201a8"
             ],
             [
              0.3333333333333333,
              "#9c179e"
             ],
             [
              0.4444444444444444,
              "#bd3786"
             ],
             [
              0.5555555555555556,
              "#d8576b"
             ],
             [
              0.6666666666666666,
              "#ed7953"
             ],
             [
              0.7777777777777778,
              "#fb9f3a"
             ],
             [
              0.8888888888888888,
              "#fdca26"
             ],
             [
              1,
              "#f0f921"
             ]
            ],
            "type": "contour"
           }
          ],
          "contourcarpet": [
           {
            "colorbar": {
             "outlinewidth": 0,
             "ticks": ""
            },
            "type": "contourcarpet"
           }
          ],
          "heatmap": [
           {
            "colorbar": {
             "outlinewidth": 0,
             "ticks": ""
            },
            "colorscale": [
             [
              0,
              "#0d0887"
             ],
             [
              0.1111111111111111,
              "#46039f"
             ],
             [
              0.2222222222222222,
              "#7201a8"
             ],
             [
              0.3333333333333333,
              "#9c179e"
             ],
             [
              0.4444444444444444,
              "#bd3786"
             ],
             [
              0.5555555555555556,
              "#d8576b"
             ],
             [
              0.6666666666666666,
              "#ed7953"
             ],
             [
              0.7777777777777778,
              "#fb9f3a"
             ],
             [
              0.8888888888888888,
              "#fdca26"
             ],
             [
              1,
              "#f0f921"
             ]
            ],
            "type": "heatmap"
           }
          ],
          "heatmapgl": [
           {
            "colorbar": {
             "outlinewidth": 0,
             "ticks": ""
            },
            "colorscale": [
             [
              0,
              "#0d0887"
             ],
             [
              0.1111111111111111,
              "#46039f"
             ],
             [
              0.2222222222222222,
              "#7201a8"
             ],
             [
              0.3333333333333333,
              "#9c179e"
             ],
             [
              0.4444444444444444,
              "#bd3786"
             ],
             [
              0.5555555555555556,
              "#d8576b"
             ],
             [
              0.6666666666666666,
              "#ed7953"
             ],
             [
              0.7777777777777778,
              "#fb9f3a"
             ],
             [
              0.8888888888888888,
              "#fdca26"
             ],
             [
              1,
              "#f0f921"
             ]
            ],
            "type": "heatmapgl"
           }
          ],
          "histogram": [
           {
            "marker": {
             "pattern": {
              "fillmode": "overlay",
              "size": 10,
              "solidity": 0.2
             }
            },
            "type": "histogram"
           }
          ],
          "histogram2d": [
           {
            "colorbar": {
             "outlinewidth": 0,
             "ticks": ""
            },
            "colorscale": [
             [
              0,
              "#0d0887"
             ],
             [
              0.1111111111111111,
              "#46039f"
             ],
             [
              0.2222222222222222,
              "#7201a8"
             ],
             [
              0.3333333333333333,
              "#9c179e"
             ],
             [
              0.4444444444444444,
              "#bd3786"
             ],
             [
              0.5555555555555556,
              "#d8576b"
             ],
             [
              0.6666666666666666,
              "#ed7953"
             ],
             [
              0.7777777777777778,
              "#fb9f3a"
             ],
             [
              0.8888888888888888,
              "#fdca26"
             ],
             [
              1,
              "#f0f921"
             ]
            ],
            "type": "histogram2d"
           }
          ],
          "histogram2dcontour": [
           {
            "colorbar": {
             "outlinewidth": 0,
             "ticks": ""
            },
            "colorscale": [
             [
              0,
              "#0d0887"
             ],
             [
              0.1111111111111111,
              "#46039f"
             ],
             [
              0.2222222222222222,
              "#7201a8"
             ],
             [
              0.3333333333333333,
              "#9c179e"
             ],
             [
              0.4444444444444444,
              "#bd3786"
             ],
             [
              0.5555555555555556,
              "#d8576b"
             ],
             [
              0.6666666666666666,
              "#ed7953"
             ],
             [
              0.7777777777777778,
              "#fb9f3a"
             ],
             [
              0.8888888888888888,
              "#fdca26"
             ],
             [
              1,
              "#f0f921"
             ]
            ],
            "type": "histogram2dcontour"
           }
          ],
          "mesh3d": [
           {
            "colorbar": {
             "outlinewidth": 0,
             "ticks": ""
            },
            "type": "mesh3d"
           }
          ],
          "parcoords": [
           {
            "line": {
             "colorbar": {
              "outlinewidth": 0,
              "ticks": ""
             }
            },
            "type": "parcoords"
           }
          ],
          "pie": [
           {
            "automargin": true,
            "type": "pie"
           }
          ],
          "scatter": [
           {
            "marker": {
             "colorbar": {
              "outlinewidth": 0,
              "ticks": ""
             }
            },
            "type": "scatter"
           }
          ],
          "scatter3d": [
           {
            "line": {
             "colorbar": {
              "outlinewidth": 0,
              "ticks": ""
             }
            },
            "marker": {
             "colorbar": {
              "outlinewidth": 0,
              "ticks": ""
             }
            },
            "type": "scatter3d"
           }
          ],
          "scattercarpet": [
           {
            "marker": {
             "colorbar": {
              "outlinewidth": 0,
              "ticks": ""
             }
            },
            "type": "scattercarpet"
           }
          ],
          "scattergeo": [
           {
            "marker": {
             "colorbar": {
              "outlinewidth": 0,
              "ticks": ""
             }
            },
            "type": "scattergeo"
           }
          ],
          "scattergl": [
           {
            "marker": {
             "colorbar": {
              "outlinewidth": 0,
              "ticks": ""
             }
            },
            "type": "scattergl"
           }
          ],
          "scattermapbox": [
           {
            "marker": {
             "colorbar": {
              "outlinewidth": 0,
              "ticks": ""
             }
            },
            "type": "scattermapbox"
           }
          ],
          "scatterpolar": [
           {
            "marker": {
             "colorbar": {
              "outlinewidth": 0,
              "ticks": ""
             }
            },
            "type": "scatterpolar"
           }
          ],
          "scatterpolargl": [
           {
            "marker": {
             "colorbar": {
              "outlinewidth": 0,
              "ticks": ""
             }
            },
            "type": "scatterpolargl"
           }
          ],
          "scatterternary": [
           {
            "marker": {
             "colorbar": {
              "outlinewidth": 0,
              "ticks": ""
             }
            },
            "type": "scatterternary"
           }
          ],
          "surface": [
           {
            "colorbar": {
             "outlinewidth": 0,
             "ticks": ""
            },
            "colorscale": [
             [
              0,
              "#0d0887"
             ],
             [
              0.1111111111111111,
              "#46039f"
             ],
             [
              0.2222222222222222,
              "#7201a8"
             ],
             [
              0.3333333333333333,
              "#9c179e"
             ],
             [
              0.4444444444444444,
              "#bd3786"
             ],
             [
              0.5555555555555556,
              "#d8576b"
             ],
             [
              0.6666666666666666,
              "#ed7953"
             ],
             [
              0.7777777777777778,
              "#fb9f3a"
             ],
             [
              0.8888888888888888,
              "#fdca26"
             ],
             [
              1,
              "#f0f921"
             ]
            ],
            "type": "surface"
           }
          ],
          "table": [
           {
            "cells": {
             "fill": {
              "color": "#EBF0F8"
             },
             "line": {
              "color": "white"
             }
            },
            "header": {
             "fill": {
              "color": "#C8D4E3"
             },
             "line": {
              "color": "white"
             }
            },
            "type": "table"
           }
          ]
         },
         "layout": {
          "annotationdefaults": {
           "arrowcolor": "#2a3f5f",
           "arrowhead": 0,
           "arrowwidth": 1
          },
          "autotypenumbers": "strict",
          "coloraxis": {
           "colorbar": {
            "outlinewidth": 0,
            "ticks": ""
           }
          },
          "colorscale": {
           "diverging": [
            [
             0,
             "#8e0152"
            ],
            [
             0.1,
             "#c51b7d"
            ],
            [
             0.2,
             "#de77ae"
            ],
            [
             0.3,
             "#f1b6da"
            ],
            [
             0.4,
             "#fde0ef"
            ],
            [
             0.5,
             "#f7f7f7"
            ],
            [
             0.6,
             "#e6f5d0"
            ],
            [
             0.7,
             "#b8e186"
            ],
            [
             0.8,
             "#7fbc41"
            ],
            [
             0.9,
             "#4d9221"
            ],
            [
             1,
             "#276419"
            ]
           ],
           "sequential": [
            [
             0,
             "#0d0887"
            ],
            [
             0.1111111111111111,
             "#46039f"
            ],
            [
             0.2222222222222222,
             "#7201a8"
            ],
            [
             0.3333333333333333,
             "#9c179e"
            ],
            [
             0.4444444444444444,
             "#bd3786"
            ],
            [
             0.5555555555555556,
             "#d8576b"
            ],
            [
             0.6666666666666666,
             "#ed7953"
            ],
            [
             0.7777777777777778,
             "#fb9f3a"
            ],
            [
             0.8888888888888888,
             "#fdca26"
            ],
            [
             1,
             "#f0f921"
            ]
           ],
           "sequentialminus": [
            [
             0,
             "#0d0887"
            ],
            [
             0.1111111111111111,
             "#46039f"
            ],
            [
             0.2222222222222222,
             "#7201a8"
            ],
            [
             0.3333333333333333,
             "#9c179e"
            ],
            [
             0.4444444444444444,
             "#bd3786"
            ],
            [
             0.5555555555555556,
             "#d8576b"
            ],
            [
             0.6666666666666666,
             "#ed7953"
            ],
            [
             0.7777777777777778,
             "#fb9f3a"
            ],
            [
             0.8888888888888888,
             "#fdca26"
            ],
            [
             1,
             "#f0f921"
            ]
           ]
          },
          "colorway": [
           "#636efa",
           "#EF553B",
           "#00cc96",
           "#ab63fa",
           "#FFA15A",
           "#19d3f3",
           "#FF6692",
           "#B6E880",
           "#FF97FF",
           "#FECB52"
          ],
          "font": {
           "color": "#2a3f5f"
          },
          "geo": {
           "bgcolor": "white",
           "lakecolor": "white",
           "landcolor": "#E5ECF6",
           "showlakes": true,
           "showland": true,
           "subunitcolor": "white"
          },
          "hoverlabel": {
           "align": "left"
          },
          "hovermode": "closest",
          "mapbox": {
           "style": "light"
          },
          "paper_bgcolor": "white",
          "plot_bgcolor": "#E5ECF6",
          "polar": {
           "angularaxis": {
            "gridcolor": "white",
            "linecolor": "white",
            "ticks": ""
           },
           "bgcolor": "#E5ECF6",
           "radialaxis": {
            "gridcolor": "white",
            "linecolor": "white",
            "ticks": ""
           }
          },
          "scene": {
           "xaxis": {
            "backgroundcolor": "#E5ECF6",
            "gridcolor": "white",
            "gridwidth": 2,
            "linecolor": "white",
            "showbackground": true,
            "ticks": "",
            "zerolinecolor": "white"
           },
           "yaxis": {
            "backgroundcolor": "#E5ECF6",
            "gridcolor": "white",
            "gridwidth": 2,
            "linecolor": "white",
            "showbackground": true,
            "ticks": "",
            "zerolinecolor": "white"
           },
           "zaxis": {
            "backgroundcolor": "#E5ECF6",
            "gridcolor": "white",
            "gridwidth": 2,
            "linecolor": "white",
            "showbackground": true,
            "ticks": "",
            "zerolinecolor": "white"
           }
          },
          "shapedefaults": {
           "line": {
            "color": "#2a3f5f"
           }
          },
          "ternary": {
           "aaxis": {
            "gridcolor": "white",
            "linecolor": "white",
            "ticks": ""
           },
           "baxis": {
            "gridcolor": "white",
            "linecolor": "white",
            "ticks": ""
           },
           "bgcolor": "#E5ECF6",
           "caxis": {
            "gridcolor": "white",
            "linecolor": "white",
            "ticks": ""
           }
          },
          "title": {
           "x": 0.05
          },
          "xaxis": {
           "automargin": true,
           "gridcolor": "white",
           "linecolor": "white",
           "ticks": "",
           "title": {
            "standoff": 15
           },
           "zerolinecolor": "white",
           "zerolinewidth": 2
          },
          "yaxis": {
           "automargin": true,
           "gridcolor": "white",
           "linecolor": "white",
           "ticks": "",
           "title": {
            "standoff": 15
           },
           "zerolinecolor": "white",
           "zerolinewidth": 2
          }
         }
        },
        "xaxis": {
         "anchor": "y",
         "autorange": true,
         "domain": [
          0,
          1
         ],
         "range": [
          "2022-01-01",
          "2022-05-25"
         ],
         "title": {
          "text": "date"
         },
         "type": "date"
        },
        "yaxis": {
         "anchor": "x",
         "autorange": true,
         "domain": [
          0,
          1
         ],
         "range": [
          -2132.1804922222223,
          40683.769352222225
         ],
         "title": {
          "text": "volume"
         },
         "type": "linear"
        }
       }
      },
      "image/png": "[encoded data removed]",
      "text/html": [
       "<div>                            <div id=\"9e73ff9a-062b-47f0-b531-bde18e0d4d06\" class=\"plotly-graph-div\" style=\"height:525px; width:100%;\"></div>            <script type=\"text/javascript\">                require([\"plotly\"], function(Plotly) {                    window.PLOTLYENV=window.PLOTLYENV || {};                                    if (document.getElementById(\"9e73ff9a-062b-47f0-b531-bde18e0d4d06\")) {                    Plotly.newPlot(                        \"9e73ff9a-062b-47f0-b531-bde18e0d4d06\",                        [{\"hovertemplate\":\"t=sells<br>date=%{x}<br>volume=%{y}<extra></extra>\",\"legendgroup\":\"sells\",\"line\":{\"color\":\"#636efa\",\"dash\":\"solid\"},\"marker\":{\"symbol\":\"circle\"},\"mode\":\"lines\",\"name\":\"sells\",\"orientation\":\"v\",\"showlegend\":true,\"type\":\"scatter\",\"x\":[\"2022-01-01T00:00:00\",\"2022-01-02T00:00:00\",\"2022-01-03T00:00:00\",\"2022-01-04T00:00:00\",\"2022-01-05T00:00:00\",\"2022-01-06T00:00:00\",\"2022-01-07T00:00:00\",\"2022-01-08T00:00:00\",\"2022-01-09T00:00:00\",\"2022-01-10T00:00:00\",\"2022-01-11T00:00:00\",\"2022-01-12T00:00:00\",\"2022-01-13T00:00:00\",\"2022-01-14T00:00:00\",\"2022-01-15T00:00:00\",\"2022-01-16T00:00:00\",\"2022-01-17T00:00:00\",\"2022-01-18T00:00:00\",\"2022-01-19T00:00:00\",\"2022-01-20T00:00:00\",\"2022-01-21T00:00:00\",\"2022-01-22T00:00:00\",\"2022-01-23T00:00:00\",\"2022-01-24T00:00:00\",\"2022-01-25T00:00:00\",\"2022-01-26T00:00:00\",\"2022-01-27T00:00:00\",\"2022-01-28T00:00:00\",\"2022-01-29T00:00:00\",\"2022-01-30T00:00:00\",\"2022-01-31T00:00:00\",\"2022-02-01T00:00:00\",\"2022-02-02T00:00:00\",\"2022-02-03T00:00:00\",\"2022-02-04T00:00:00\",\"2022-02-05T00:00:00\",\"2022-02-06T00:00:00\",\"2022-02-07T00:00:00\",\"2022-02-08T00:00:00\",\"2022-02-09T00:00:00\",\"2022-02-10T00:00:00\",\"2022-02-11T00:00:00\",\"2022-02-12T00:00:00\",\"2022-02-13T00:00:00\",\"2022-02-14T00:00:00\",\"2022-02-15T00:00:00\",\"2022-02-16T00:00:00\",\"2022-02-17T00:00:00\",\"2022-02-18T00:00:00\",\"2022-02-19T00:00:00\",\"2022-02-20T00:00:00\",\"2022-02-21T00:00:00\",\"2022-02-22T00:00:00\",\"2022-02-23T00:00:00\",\"2022-02-24T00:00:00\",\"2022-02-25T00:00:00\",\"2022-02-26T00:00:00\",\"2022-02-27T00:00:00\",\"2022-02-28T00:00:00\",\"2022-03-01T00:00:00\",\"2022-03-02T00:00:00\",\"2022-03-03T00:00:00\",\"2022-03-04T00:00:00\",\"2022-03-05T00:00:00\",\"2022-03-06T00:00:00\",\"2022-03-07T00:00:00\",\"2022-03-08T00:00:00\",\"2022-03-09T00:00:00\",\"2022-03-10T00:00:00\",\"2022-03-11T00:00:00\",\"2022-03-12T00:00:00\",\"2022-03-13T00:00:00\",\"2022-03-14T00:00:00\",\"2022-03-15T00:00:00\",\"2022-03-16T00:00:00\",\"2022-03-17T00:00:00\",\"2022-03-18T00:00:00\",\"2022-03-19T00:00:00\",\"2022-03-20T00:00:00\",\"2022-03-21T00:00:00\",\"2022-03-22T00:00:00\",\"2022-03-23T00:00:00\",\"2022-03-24T00:00:00\",\"2022-03-25T00:00:00\",\"2022-03-26T00:00:00\",\"2022-03-27T00:00:00\",\"2022-03-28T00:00:00\",\"2022-03-29T00:00:00\",\"2022-03-30T00:00:00\",\"2022-03-31T00:00:00\",\"2022-04-01T00:00:00\",\"2022-04-02T00:00:00\",\"2022-04-03T00:00:00\",\"2022-04-04T00:00:00\",\"2022-04-05T00:00:00\",\"2022-04-06T00:00:00\",\"2022-04-07T00:00:00\",\"2022-04-08T00:00:00\",\"2022-04-09T00:00:00\",\"2022-04-10T00:00:00\",\"2022-04-11T00:00:00\",\"2022-04-12T00:00:00\",\"2022-04-13T00:00:00\",\"2022-04-14T00:00:00\",\"2022-04-15T00:00:00\",\"2022-04-16T00:00:00\",\"2022-04-17T00:00:00\",\"2022-04-18T00:00:00\",\"2022-04-19T00:00:00\",\"2022-04-20T00:00:00\",\"2022-04-21T00:00:00\",\"2022-04-22T00:00:00\",\"2022-04-23T00:00:00\",\"2022-04-24T00:00:00\",\"2022-04-25T00:00:00\",\"2022-04-26T00:00:00\",\"2022-04-27T00:00:00\",\"2022-04-28T00:00:00\",\"2022-04-29T00:00:00\",\"2022-04-30T00:00:00\",\"2022-05-01T00:00:00\",\"2022-05-02T00:00:00\",\"2022-05-03T00:00:00\",\"2022-05-04T00:00:00\",\"2022-05-06T00:00:00\",\"2022-05-07T00:00:00\",\"2022-05-08T00:00:00\",\"2022-05-09T00:00:00\",\"2022-05-10T00:00:00\",\"2022-05-11T00:00:00\",\"2022-05-12T00:00:00\",\"2022-05-13T00:00:00\",\"2022-05-14T00:00:00\",\"2022-05-15T00:00:00\",\"2022-05-16T00:00:00\",\"2022-05-17T00:00:00\",\"2022-05-18T00:00:00\",\"2022-05-19T00:00:00\",\"2022-05-20T00:00:00\",\"2022-05-21T00:00:00\",\"2022-05-22T00:00:00\",\"2022-05-23T00:00:00\",\"2022-05-24T00:00:00\",\"2022-05-25T00:00:00\"],\"xaxis\":\"x\",\"y\":[1588.126,4347.008,3072.808,4608.687,2802.052,8640.698,6198.168,4094.599,5027.626,13003.418,7078.392,11424.218,6891.002,10181.585000000001,5498.772,3251.793,8837.593,9509.665,10444.099,7173.215,7347.283,6487.1359999999995,6283.167,12171.5,21663.781,10117.826000000001,6359.374,14280.308,6901.383,7896.545,17097.825,14055.874,8904.711,10583.049,11830.282,5548.468,6648.585,17824.477,14547.675,14594.53,16323.728,16804.555,11288.204,8618.94,15745.003,11954.94,15858.956,12232.731,11666.63,7613.407,9114.831,20226.859,13876.922,4894.624,5227.843,7691.726,5125.37,10074.393,20454.459,20420.929,17071.147,14359.909,20783.647,16537.584,7092.861,15106.342,10848.509,27421.721,9124.573,15802.983,9247.221,10659.765,19828.147,14381.481,13572.884,16565.778,14474.399,11762.35,10600.806,22407.175,11798.603000000001,9025.308,12054.245,14031.934,9057.272,9304.769,18870.241,18645.885,10393.021999999999,11979.199,13357.645,3540.704,7161.139,15670.664999999999,17769.752,12252.487,11844.721,13978.33,8523.034,8760.133,11212.101,3916.82,5515.485,6627.193,4528.53,1346.279,4564.743,5963.637,5254.866,1903.259,502.874,551.456,622.275,1023.988,1079.936,1637.501,1308.834,1179.317,830.955,312.492,297.32099999999997,858.63,1366.026,933.749,2466.309,687.846,629.071,694.983,865.1809999999999,753.176,1024.374,1241.441,946.977,1783.2259999999999,1230.76,1001.095,1297.7359999999999,1161.776,1273.364,401.96299999999997,1072.677,1744.3519999999999,2007.857,1055.699],\"yaxis\":\"y\"},{\"hovertemplate\":\"t=shipment<br>date=%{x}<br>volume=%{y}<extra></extra>\",\"legendgroup\":\"shipment\",\"line\":{\"color\":\"#EF553B\",\"dash\":\"solid\"},\"marker\":{\"symbol\":\"circle\"},\"mode\":\"lines\",\"name\":\"shipment\",\"orientation\":\"v\",\"showlegend\":true,\"type\":\"scatter\",\"x\":[\"2022-01-01T00:00:00\",\"2022-01-02T00:00:00\",\"2022-01-03T00:00:00\",\"2022-01-04T00:00:00\",\"2022-01-05T00:00:00\",\"2022-01-06T00:00:00\",\"2022-01-07T00:00:00\",\"2022-01-08T00:00:00\",\"2022-01-09T00:00:00\",\"2022-01-10T00:00:00\",\"2022-01-11T00:00:00\",\"2022-01-12T00:00:00\",\"2022-01-13T00:00:00\",\"2022-01-14T00:00:00\",\"2022-01-15T00:00:00\",\"2022-01-16T00:00:00\",\"2022-01-17T00:00:00\",\"2022-01-18T00:00:00\",\"2022-01-19T00:00:00\",\"2022-01-20T00:00:00\",\"2022-01-21T00:00:00\",\"2022-01-22T00:00:00\",\"2022-01-23T00:00:00\",\"2022-01-24T00:00:00\",\"2022-01-25T00:00:00\",\"2022-01-26T00:00:00\",\"2022-01-27T00:00:00\",\"2022-01-28T00:00:00\",\"2022-01-29T00:00:00\",\"2022-01-30T00:00:00\",\"2022-01-31T00:00:00\",\"2022-02-01T00:00:00\",\"2022-02-02T00:00:00\",\"2022-02-03T00:00:00\",\"2022-02-04T00:00:00\",\"2022-02-05T00:00:00\",\"2022-02-06T00:00:00\",\"2022-02-07T00:00:00\",\"2022-02-08T00:00:00\",\"2022-02-09T00:00:00\",\"2022-02-10T00:00:00\",\"2022-02-11T00:00:00\",\"2022-02-12T00:00:00\",\"2022-02-13T00:00:00\",\"2022-02-14T00:00:00\",\"2022-02-15T00:00:00\",\"2022-02-16T00:00:00\",\"2022-02-17T00:00:00\",\"2022-02-18T00:00:00\",\"2022-02-19T00:00:00\",\"2022-02-20T00:00:00\",\"2022-02-21T00:00:00\",\"2022-02-22T00:00:00\",\"2022-02-23T00:00:00\",\"2022-02-24T00:00:00\",\"2022-02-25T00:00:00\",\"2022-02-26T00:00:00\",\"2022-02-27T00:00:00\",\"2022-02-28T00:00:00\",\"2022-03-01T00:00:00\",\"2022-03-02T00:00:00\",\"2022-03-03T00:00:00\",\"2022-03-04T00:00:00\",\"2022-03-05T00:00:00\",\"2022-03-06T00:00:00\",\"2022-03-07T00:00:00\",\"2022-03-08T00:00:00\",\"2022-03-09T00:00:00\",\"2022-03-10T00:00:00\",\"2022-03-11T00:00:00\",\"2022-03-12T00:00:00\",\"2022-03-13T00:00:00\",\"2022-03-14T00:00:00\",\"2022-03-15T00:00:00\",\"2022-03-16T00:00:00\",\"2022-03-17T00:00:00\",\"2022-03-18T00:00:00\",\"2022-03-19T00:00:00\",\"2022-03-20T00:00:00\",\"2022-03-21T00:00:00\",\"2022-03-22T00:00:00\",\"2022-03-23T00:00:00\",\"2022-03-24T00:00:00\",\"2022-03-25T00:00:00\",\"2022-03-26T00:00:00\",\"2022-03-27T00:00:00\",\"2022-03-28T00:00:00\",\"2022-03-29T00:00:00\",\"2022-03-30T00:00:00\",\"2022-03-31T00:00:00\",\"2022-04-01T00:00:00\",\"2022-04-02T00:00:00\",\"2022-04-03T00:00:00\",\"2022-04-04T00:00:00\",\"2022-04-05T00:00:00\",\"2022-04-06T00:00:00\",\"2022-04-07T00:00:00\",\"2022-04-08T00:00:00\",\"2022-04-09T00:00:00\",\"2022-04-10T00:00:00\",\"2022-04-11T00:00:00\",\"2022-04-12T00:00:00\",\"2022-04-13T00:00:00\",\"2022-04-14T00:00:00\",\"2022-04-15T00:00:00\",\"2022-04-16T00:00:00\",\"2022-04-17T00:00:00\",\"2022-04-18T00:00:00\",\"2022-04-19T00:00:00\",\"2022-04-20T00:00:00\",\"2022-04-21T00:00:00\",\"2022-04-22T00:00:00\",\"2022-04-23T00:00:00\",\"2022-04-24T00:00:00\",\"2022-04-25T00:00:00\",\"2022-04-26T00:00:00\",\"2022-04-27T00:00:00\",\"2022-04-28T00:00:00\",\"2022-04-29T00:00:00\",\"2022-04-30T00:00:00\",\"2022-05-01T00:00:00\",\"2022-05-02T00:00:00\",\"2022-05-03T00:00:00\",\"2022-05-04T00:00:00\",\"2022-05-05T00:00:00\",\"2022-05-06T00:00:00\",\"2022-05-07T00:00:00\",\"2022-05-08T00:00:00\",\"2022-05-09T00:00:00\",\"2022-05-10T00:00:00\",\"2022-05-11T00:00:00\",\"2022-05-12T00:00:00\",\"2022-05-13T00:00:00\",\"2022-05-14T00:00:00\",\"2022-05-15T00:00:00\",\"2022-05-17T00:00:00\",\"2022-05-18T00:00:00\",\"2022-05-19T00:00:00\",\"2022-05-20T00:00:00\",\"2022-05-21T00:00:00\",\"2022-05-22T00:00:00\",\"2022-05-23T00:00:00\",\"2022-05-24T00:00:00\",\"2022-05-25T00:00:00\"],\"xaxis\":\"x\",\"y\":[5427.243552,3697.807036,7534.925352,20687.523994,13809.3582,16343.693346,5300.897442,5657.572864,11355.0258,7228.906956,6896.045556000001,15346.576872000001,3059.665,955.932,7917.6285,9536.376199999999,6306.374772,9564.96531,12039.070926,9631.956963999999,7610.573304,15407.253858,16559.305964,24924.388251999997,20483.673749999998,17798.523436,3665.884396,1095.481,3494.715532,4228.296228,20148.341954,10501.800426,23908.00277,19367.23844,23937.629264,13962.112724,22717.22384,14897.75805,7002.224856,7410.284097,10971.90306,13133.680112,15137.841688,16331.994875999999,15106.737068,5887.560808,23297.049196,9012.7957,28229.503402,31099.656828,19348.5317,6691.203416,5972.5321,10759.25618,25735.7195,9263.226178,22864.848808,5754.5412,13439.816176,16241.725976,10752.809036,14004.881576,18037.128866,24824.842716,22612.720548,33430.105932,18977.503954,11562.009096,15110.488152,7050.11516,11353.132118,15192.912268,21151.479374,38542.971860000005,17295.511328,13275.46495,31067.821722,19326.455306,17258.856662000002,7715.015,15738.28954,19817.018176,24039.320634,9705.0697,23378.095903999998,10052.345124,10421.218499999999,34116.636676,9600.091064,18128.56426,17078.767084,27480.316428,29960.511032000002,20315.20092,15761.804612,11077.8915,7930.839,8587.613070000001,8518.211908,8561.409652,10433.38478,26505.904,13545.88113,18026.630941,22534.690806,6527.2815,13633.027648000001,9353.5114,11046.325732000001,20069.5249,1000.526852,4344.65232,6637.883724,9654.19743,693.087,1723.2325,675.8054999999999,13612.9688,4351.5777,699.03308,6111.52856,1087.649168,4416.530684,4065.46,6288.0059,6687.9085000000005,3777.4193999999998,8159.400808,5785.4436000000005,4858.660100000001,9256.33416,195.18760000000003,2033.318,8.617,360.812,2770.1675,4505.0261,1076.256476,401.462,4406.6273360000005,1925.3825000000002,3416.6964,3371.754,1614.3600000000001],\"yaxis\":\"y\"}],                        {\"legend\":{\"title\":{\"text\":\"t\"},\"tracegroupgap\":0},\"margin\":{\"t\":60},\"template\":{\"data\":{\"bar\":[{\"error_x\":{\"color\":\"#2a3f5f\"},\"error_y\":{\"color\":\"#2a3f5f\"},\"marker\":{\"line\":{\"color\":\"#E5ECF6\",\"width\":0.5},\"pattern\":{\"fillmode\":\"overlay\",\"size\":10,\"solidity\":0.2}},\"type\":\"bar\"}],\"barpolar\":[{\"marker\":{\"line\":{\"color\":\"#E5ECF6\",\"width\":0.5},\"pattern\":{\"fillmode\":\"overlay\",\"size\":10,\"solidity\":0.2}},\"type\":\"barpolar\"}],\"carpet\":[{\"aaxis\":{\"endlinecolor\":\"#2a3f5f\",\"gridcolor\":\"white\",\"linecolor\":\"white\",\"minorgridcolor\":\"white\",\"startlinecolor\":\"#2a3f5f\"},\"baxis\":{\"endlinecolor\":\"#2a3f5f\",\"gridcolor\":\"white\",\"linecolor\":\"white\",\"minorgridcolor\":\"white\",\"startlinecolor\":\"#2a3f5f\"},\"type\":\"carpet\"}],\"choropleth\":[{\"colorbar\":{\"outlinewidth\":0,\"ticks\":\"\"},\"type\":\"choropleth\"}],\"contour\":[{\"colorbar\":{\"outlinewidth\":0,\"ticks\":\"\"},\"colorscale\":[[0.0,\"#0d0887\"],[0.1111111111111111,\"#46039f\"],[0.2222222222222222,\"#7201a8\"],[0.3333333333333333,\"#9c179e\"],[0.4444444444444444,\"#bd3786\"],[0.5555555555555556,\"#d8576b\"],[0.6666666666666666,\"#ed7953\"],[0.7777777777777778,\"#fb9f3a\"],[0.8888888888888888,\"#fdca26\"],[1.0,\"#f0f921\"]],\"type\":\"contour\"}],\"contourcarpet\":[{\"colorbar\":{\"outlinewidth\":0,\"ticks\":\"\"},\"type\":\"contourcarpet\"}],\"heatmap\":[{\"colorbar\":{\"outlinewidth\":0,\"ticks\":\"\"},\"colorscale\":[[0.0,\"#0d0887\"],[0.1111111111111111,\"#46039f\"],[0.2222222222222222,\"#7201a8\"],[0.3333333333333333,\"#9c179e\"],[0.4444444444444444,\"#bd3786\"],[0.5555555555555556,\"#d8576b\"],[0.6666666666666666,\"#ed7953\"],[0.7777777777777778,\"#fb9f3a\"],[0.8888888888888888,\"#fdca26\"],[1.0,\"#f0f921\"]],\"type\":\"heatmap\"}],\"heatmapgl\":[{\"colorbar\":{\"outlinewidth\":0,\"ticks\":\"\"},\"colorscale\":[[0.0,\"#0d0887\"],[0.1111111111111111,\"#46039f\"],[0.2222222222222222,\"#7201a8\"],[0.3333333333333333,\"#9c179e\"],[0.4444444444444444,\"#bd3786\"],[0.5555555555555556,\"#d8576b\"],[0.6666666666666666,\"#ed7953\"],[0.7777777777777778,\"#fb9f3a\"],[0.8888888888888888,\"#fdca26\"],[1.0,\"#f0f921\"]],\"type\":\"heatmapgl\"}],\"histogram\":[{\"marker\":{\"pattern\":{\"fillmode\":\"overlay\",\"size\":10,\"solidity\":0.2}},\"type\":\"histogram\"}],\"histogram2d\":[{\"colorbar\":{\"outlinewidth\":0,\"ticks\":\"\"},\"colorscale\":[[0.0,\"#0d0887\"],[0.1111111111111111,\"#46039f\"],[0.2222222222222222,\"#7201a8\"],[0.3333333333333333,\"#9c179e\"],[0.4444444444444444,\"#bd3786\"],[0.5555555555555556,\"#d8576b\"],[0.6666666666666666,\"#ed7953\"],[0.7777777777777778,\"#fb9f3a\"],[0.8888888888888888,\"#fdca26\"],[1.0,\"#f0f921\"]],\"type\":\"histogram2d\"}],\"histogram2dcontour\":[{\"colorbar\":{\"outlinewidth\":0,\"ticks\":\"\"},\"colorscale\":[[0.0,\"#0d0887\"],[0.1111111111111111,\"#46039f\"],[0.2222222222222222,\"#7201a8\"],[0.3333333333333333,\"#9c179e\"],[0.4444444444444444,\"#bd3786\"],[0.5555555555555556,\"#d8576b\"],[0.6666666666666666,\"#ed7953\"],[0.7777777777777778,\"#fb9f3a\"],[0.8888888888888888,\"#fdca26\"],[1.0,\"#f0f921\"]],\"type\":\"histogram2dcontour\"}],\"mesh3d\":[{\"colorbar\":{\"outlinewidth\":0,\"ticks\":\"\"},\"type\":\"mesh3d\"}],\"parcoords\":[{\"line\":{\"colorbar\":{\"outlinewidth\":0,\"ticks\":\"\"}},\"type\":\"parcoords\"}],\"pie\":[{\"automargin\":true,\"type\":\"pie\"}],\"scatter\":[{\"marker\":{\"colorbar\":{\"outlinewidth\":0,\"ticks\":\"\"}},\"type\":\"scatter\"}],\"scatter3d\":[{\"line\":{\"colorbar\":{\"outlinewidth\":0,\"ticks\":\"\"}},\"marker\":{\"colorbar\":{\"outlinewidth\":0,\"ticks\":\"\"}},\"type\":\"scatter3d\"}],\"scattercarpet\":[{\"marker\":{\"colorbar\":{\"outlinewidth\":0,\"ticks\":\"\"}},\"type\":\"scattercarpet\"}],\"scattergeo\":[{\"marker\":{\"colorbar\":{\"outlinewidth\":0,\"ticks\":\"\"}},\"type\":\"scattergeo\"}],\"scattergl\":[{\"marker\":{\"colorbar\":{\"outlinewidth\":0,\"ticks\":\"\"}},\"type\":\"scattergl\"}],\"scattermapbox\":[{\"marker\":{\"colorbar\":{\"outlinewidth\":0,\"ticks\":\"\"}},\"type\":\"scattermapbox\"}],\"scatterpolar\":[{\"marker\":{\"colorbar\":{\"outlinewidth\":0,\"ticks\":\"\"}},\"type\":\"scatterpolar\"}],\"scatterpolargl\":[{\"marker\":{\"colorbar\":{\"outlinewidth\":0,\"ticks\":\"\"}},\"type\":\"scatterpolargl\"}],\"scatterternary\":[{\"marker\":{\"colorbar\":{\"outlinewidth\":0,\"ticks\":\"\"}},\"type\":\"scatterternary\"}],\"surface\":[{\"colorbar\":{\"outlinewidth\":0,\"ticks\":\"\"},\"colorscale\":[[0.0,\"#0d0887\"],[0.1111111111111111,\"#46039f\"],[0.2222222222222222,\"#7201a8\"],[0.3333333333333333,\"#9c179e\"],[0.4444444444444444,\"#bd3786\"],[0.5555555555555556,\"#d8576b\"],[0.6666666666666666,\"#ed7953\"],[0.7777777777777778,\"#fb9f3a\"],[0.8888888888888888,\"#fdca26\"],[1.0,\"#f0f921\"]],\"type\":\"surface\"}],\"table\":[{\"cells\":{\"fill\":{\"color\":\"#EBF0F8\"},\"line\":{\"color\":\"white\"}},\"header\":{\"fill\":{\"color\":\"#C8D4E3\"},\"line\":{\"color\":\"white\"}},\"type\":\"table\"}]},\"layout\":{\"annotationdefaults\":{\"arrowcolor\":\"#2a3f5f\",\"arrowhead\":0,\"arrowwidth\":1},\"autotypenumbers\":\"strict\",\"coloraxis\":{\"colorbar\":{\"outlinewidth\":0,\"ticks\":\"\"}},\"colorscale\":{\"diverging\":[[0,\"#8e0152\"],[0.1,\"#c51b7d\"],[0.2,\"#de77ae\"],[0.3,\"#f1b6da\"],[0.4,\"#fde0ef\"],[0.5,\"#f7f7f7\"],[0.6,\"#e6f5d0\"],[0.7,\"#b8e186\"],[0.8,\"#7fbc41\"],[0.9,\"#4d9221\"],[1,\"#276419\"]],\"sequential\":[[0.0,\"#0d0887\"],[0.1111111111111111,\"#46039f\"],[0.2222222222222222,\"#7201a8\"],[0.3333333333333333,\"#9c179e\"],[0.4444444444444444,\"#bd3786\"],[0.5555555555555556,\"#d8576b\"],[0.6666666666666666,\"#ed7953\"],[0.7777777777777778,\"#fb9f3a\"],[0.8888888888888888,\"#fdca26\"],[1.0,\"#f0f921\"]],\"sequentialminus\":[[0.0,\"#0d0887\"],[0.1111111111111111,\"#46039f\"],[0.2222222222222222,\"#7201a8\"],[0.3333333333333333,\"#9c179e\"],[0.4444444444444444,\"#bd3786\"],[0.5555555555555556,\"#d8576b\"],[0.6666666666666666,\"#ed7953\"],[0.7777777777777778,\"#fb9f3a\"],[0.8888888888888888,\"#fdca26\"],[1.0,\"#f0f921\"]]},\"colorway\":[\"#636efa\",\"#EF553B\",\"#00cc96\",\"#ab63fa\",\"#FFA15A\",\"#19d3f3\",\"#FF6692\",\"#B6E880\",\"#FF97FF\",\"#FECB52\"],\"font\":{\"color\":\"#2a3f5f\"},\"geo\":{\"bgcolor\":\"white\",\"lakecolor\":\"white\",\"landcolor\":\"#E5ECF6\",\"showlakes\":true,\"showland\":true,\"subunitcolor\":\"white\"},\"hoverlabel\":{\"align\":\"left\"},\"hovermode\":\"closest\",\"mapbox\":{\"style\":\"light\"},\"paper_bgcolor\":\"white\",\"plot_bgcolor\":\"#E5ECF6\",\"polar\":{\"angularaxis\":{\"gridcolor\":\"white\",\"linecolor\":\"white\",\"ticks\":\"\"},\"bgcolor\":\"#E5ECF6\",\"radialaxis\":{\"gridcolor\":\"white\",\"linecolor\":\"white\",\"ticks\":\"\"}},\"scene\":{\"xaxis\":{\"backgroundcolor\":\"#E5ECF6\",\"gridcolor\":\"white\",\"gridwidth\":2,\"linecolor\":\"white\",\"showbackground\":true,\"ticks\":\"\",\"zerolinecolor\":\"white\"},\"yaxis\":{\"backgroundcolor\":\"#E5ECF6\",\"gridcolor\":\"white\",\"gridwidth\":2,\"linecolor\":\"white\",\"showbackground\":true,\"ticks\":\"\",\"zerolinecolor\":\"white\"},\"zaxis\":{\"backgroundcolor\":\"#E5ECF6\",\"gridcolor\":\"white\",\"gridwidth\":2,\"linecolor\":\"white\",\"showbackground\":true,\"ticks\":\"\",\"zerolinecolor\":\"white\"}},\"shapedefaults\":{\"line\":{\"color\":\"#2a3f5f\"}},\"ternary\":{\"aaxis\":{\"gridcolor\":\"white\",\"linecolor\":\"white\",\"ticks\":\"\"},\"baxis\":{\"gridcolor\":\"white\",\"linecolor\":\"white\",\"ticks\":\"\"},\"bgcolor\":\"#E5ECF6\",\"caxis\":{\"gridcolor\":\"white\",\"linecolor\":\"white\",\"ticks\":\"\"}},\"title\":{\"x\":0.05},\"xaxis\":{\"automargin\":true,\"gridcolor\":\"white\",\"linecolor\":\"white\",\"ticks\":\"\",\"title\":{\"standoff\":15},\"zerolinecolor\":\"white\",\"zerolinewidth\":2},\"yaxis\":{\"automargin\":true,\"gridcolor\":\"white\",\"linecolor\":\"white\",\"ticks\":\"\",\"title\":{\"standoff\":15},\"zerolinecolor\":\"white\",\"zerolinewidth\":2}}},\"xaxis\":{\"anchor\":\"y\",\"domain\":[0.0,1.0],\"title\":{\"text\":\"date\"}},\"yaxis\":{\"anchor\":\"x\",\"domain\":[0.0,1.0],\"title\":{\"text\":\"volume\"}}},                        {\"responsive\": true}                    ).then(function(){\n",
       "                            \n",
       "var gd = document.getElementById('9e73ff9a-062b-47f0-b531-bde18e0d4d06');\n",
       "var x = new MutationObserver(function (mutations, observer) {{\n",
       "        var display = window.getComputedStyle(gd).display;\n",
       "        if (!display || display === 'none') {{\n",
       "            console.log([gd, 'removed!']);\n",
       "            Plotly.purge(gd);\n",
       "            observer.disconnect();\n",
       "        }}\n",
       "}});\n",
       "\n",
       "// Listen for the removal of the full notebook cells\n",
       "var notebookContainer = gd.closest('#notebook-container');\n",
       "if (notebookContainer) {{\n",
       "    x.observe(notebookContainer, {childList: true});\n",
       "}}\n",
       "\n",
       "// Listen for the clearing of the current output cell\n",
       "var outputEl = gd.closest('.output');\n",
       "if (outputEl) {{\n",
       "    x.observe(outputEl, {childList: true});\n",
       "}}\n",
       "\n",
       "                        })                };                });            </script>        </div>"
      ]
     },
     "metadata": {},
     "output_type": "display_data"
    }
   ],
   "source": [
    "px.line(pd.concat([one_fish_sell, one_fish_shipment]), x='date', y='volume', color='t')"
   ]
  },
  {
   "cell_type": "code",
   "execution_count": 853,
   "id": "dadd3fea",
   "metadata": {},
   "outputs": [],
   "source": [
    "fish.to_csv('fish.csv', index=False)"
   ]
  },
  {
   "cell_type": "code",
   "execution_count": 864,
   "id": "16cea11a",
   "metadata": {},
   "outputs": [
    {
     "name": "stderr",
     "output_type": "stream",
     "text": [
      "100%|█████████████████████████████████████████| 243/243 [00:24<00:00,  9.94it/s]\n"
     ]
    }
   ],
   "source": [
    "sells_anomaly = pd.DataFrame(columns=['volume', 'id_Plat', 'date', 'id_fish'])\n",
    "left_in_shop = pd.DataFrame(columns=['date', 'id_fish'])\n",
    "shipment_not_sold = pd.DataFrame(columns=['volume', 'date', 'id_fish', 'not sold'])\n",
    "parts = {}\n",
    "\n",
    "\n",
    "for fish_id in tqdm(fish['id_fish'].unique()):\n",
    "    one_fish_sell, one_fish_shipment = get_one_fish(fish_id)\n",
    "    one_fish = pd.concat([one_fish_sell, one_fish_shipment])\n",
    "    anomaly, sells_parts, sum_left_in_shop = find_anomalies(one_fish_shipment, one_fish_sell, 14, 50)\n",
    "    parts[fish_id] = sells_parts\n",
    "    \n",
    "    one_fish_shipment['not sold'] = 0\n",
    "    for el in anomaly['under_sell']:\n",
    "        one_fish_shipment.loc[one_fish_shipment['date'] == el['date'], 'not sold'] = el['volume']\n",
    "    \n",
    "    if len(anomaly['over_sell']) == 0:\n",
    "        continue\n",
    "        \n",
    "    over_sell = pd.DataFrame(anomaly['over_sell'])\n",
    "    under_sell = pd.DataFrame(anomaly['under_sell'])\n",
    "    \n",
    "    full_fish = fish[fish['id_fish'] == fish_id][['date', 'volume', 'id_Plat']]\n",
    "    over_sells_anomaly = over_sell[detect_outliers(over_sell['volume'])]\n",
    "    add_rating = []\n",
    "    for i in range(len(over_sells_anomaly)):\n",
    "        el = over_sells_anomaly.iloc[i]\n",
    "        day_sells = full_fish[full_fish['date'].dt.date == el['date']]\n",
    "        volumes = day_sells['volume'].tolist()\n",
    "        plat_ids = day_sells['id_Plat'].tolist()\n",
    "        dates = day_sells['date'].tolist()\n",
    "        \n",
    "        pt = len(day_sells) - 1\n",
    "        while pt >= 0 and el['volume'] > 0:\n",
    "            el['volume'] -= volumes[pt]\n",
    "            add_rating.append({'volume': volumes[pt], 'id_Plat': plat_ids[pt], 'date': dates[pt]})\n",
    "            pt -= 1\n",
    "            \n",
    "    sum_left_in_shop['id_fish'] = fish_id\n",
    "    one_fish_sell['date'] = one_fish_sell['date'].astype(str)#.strftime('%Y-%m-%d')\n",
    "    sum_left_in_shop = sum_left_in_shop.merge(one_fish_sell, on='date', how='left').drop('t', axis=1)\n",
    "    left_in_shop = pd.concat([left_in_shop, sum_left_in_shop])\n",
    "    \n",
    "    add_rating = pd.DataFrame(add_rating)\n",
    "    add_rating['id_fish'] = fish_id\n",
    "    sells_anomaly = pd.concat([sells_anomaly, add_rating])\n",
    "    \n",
    "    one_fish_shipment.drop('t', axis=1, inplace=True)\n",
    "    one_fish_shipment['id_fish'] = fish_id\n",
    "    shipment_not_sold = pd.concat([shipment_not_sold, one_fish_shipment])"
   ]
  },
  {
   "cell_type": "code",
   "execution_count": 865,
   "id": "3b29e18b",
   "metadata": {},
   "outputs": [],
   "source": [
    "import pickle\n",
    "\n",
    "with open('selling_parts.pickle', 'wb') as fp:\n",
    "    pickle.dump(parts, fp)"
   ]
  },
  {
   "cell_type": "code",
   "execution_count": 866,
   "id": "54a418ce",
   "metadata": {},
   "outputs": [
    {
     "data": {
      "text/html": [
       "<div>\n",
       "<style scoped>\n",
       "    .dataframe tbody tr th:only-of-type {\n",
       "        vertical-align: middle;\n",
       "    }\n",
       "\n",
       "    .dataframe tbody tr th {\n",
       "        vertical-align: top;\n",
       "    }\n",
       "\n",
       "    .dataframe thead th {\n",
       "        text-align: right;\n",
       "    }\n",
       "</style>\n",
       "<table border=\"1\" class=\"dataframe\">\n",
       "  <thead>\n",
       "    <tr style=\"text-align: right;\">\n",
       "      <th></th>\n",
       "      <th>id_Plat</th>\n",
       "      <th>date</th>\n",
       "      <th>id_fish</th>\n",
       "      <th>volume</th>\n",
       "      <th>anomaly_type</th>\n",
       "    </tr>\n",
       "  </thead>\n",
       "  <tbody>\n",
       "    <tr>\n",
       "      <th>0</th>\n",
       "      <td>6288840.0</td>\n",
       "      <td>2022-01-26</td>\n",
       "      <td>43</td>\n",
       "      <td>0.087</td>\n",
       "      <td>over_sells</td>\n",
       "    </tr>\n",
       "    <tr>\n",
       "      <th>1</th>\n",
       "      <td>6288840.0</td>\n",
       "      <td>2022-01-27</td>\n",
       "      <td>248</td>\n",
       "      <td>0.027</td>\n",
       "      <td>over_sells</td>\n",
       "    </tr>\n",
       "    <tr>\n",
       "      <th>2</th>\n",
       "      <td>6288840.0</td>\n",
       "      <td>2022-01-28</td>\n",
       "      <td>7</td>\n",
       "      <td>0.180</td>\n",
       "      <td>over_sells</td>\n",
       "    </tr>\n",
       "    <tr>\n",
       "      <th>3</th>\n",
       "      <td>6288840.0</td>\n",
       "      <td>2022-02-07</td>\n",
       "      <td>43</td>\n",
       "      <td>0.050</td>\n",
       "      <td>over_sells</td>\n",
       "    </tr>\n",
       "    <tr>\n",
       "      <th>4</th>\n",
       "      <td>6288840.0</td>\n",
       "      <td>2022-02-10</td>\n",
       "      <td>-1</td>\n",
       "      <td>0.028</td>\n",
       "      <td>over_sells</td>\n",
       "    </tr>\n",
       "  </tbody>\n",
       "</table>\n",
       "</div>"
      ],
      "text/plain": [
       "     id_Plat        date  id_fish  volume anomaly_type\n",
       "0  6288840.0  2022-01-26       43   0.087   over_sells\n",
       "1  6288840.0  2022-01-27      248   0.027   over_sells\n",
       "2  6288840.0  2022-01-28        7   0.180   over_sells\n",
       "3  6288840.0  2022-02-07       43   0.050   over_sells\n",
       "4  6288840.0  2022-02-10       -1   0.028   over_sells"
      ]
     },
     "execution_count": 866,
     "metadata": {},
     "output_type": "execute_result"
    }
   ],
   "source": [
    "sells_anomaly = sells_anomaly.groupby(['id_Plat', sells_anomaly['date'].dt.date, 'id_fish'])['volume'].sum().reset_index()\n",
    "sells_anomaly['anomaly_type'] = 'over_sells'\n",
    "sells_anomaly.head()"
   ]
  },
  {
   "cell_type": "code",
   "execution_count": 867,
   "id": "86009137",
   "metadata": {},
   "outputs": [
    {
     "data": {
      "text/html": [
       "<div>\n",
       "<style scoped>\n",
       "    .dataframe tbody tr th:only-of-type {\n",
       "        vertical-align: middle;\n",
       "    }\n",
       "\n",
       "    .dataframe tbody tr th {\n",
       "        vertical-align: top;\n",
       "    }\n",
       "\n",
       "    .dataframe thead th {\n",
       "        text-align: right;\n",
       "    }\n",
       "</style>\n",
       "<table border=\"1\" class=\"dataframe\">\n",
       "  <thead>\n",
       "    <tr style=\"text-align: right;\">\n",
       "      <th></th>\n",
       "      <th>volume</th>\n",
       "      <th>date</th>\n",
       "      <th>id_fish</th>\n",
       "      <th>not sold</th>\n",
       "    </tr>\n",
       "  </thead>\n",
       "  <tbody>\n",
       "    <tr>\n",
       "      <th>0</th>\n",
       "      <td>5427.243552</td>\n",
       "      <td>2022-01-01</td>\n",
       "      <td>400</td>\n",
       "      <td>0</td>\n",
       "    </tr>\n",
       "    <tr>\n",
       "      <th>1</th>\n",
       "      <td>3697.807036</td>\n",
       "      <td>2022-01-02</td>\n",
       "      <td>400</td>\n",
       "      <td>0</td>\n",
       "    </tr>\n",
       "    <tr>\n",
       "      <th>2</th>\n",
       "      <td>7534.925352</td>\n",
       "      <td>2022-01-03</td>\n",
       "      <td>400</td>\n",
       "      <td>0</td>\n",
       "    </tr>\n",
       "    <tr>\n",
       "      <th>3</th>\n",
       "      <td>20687.523994</td>\n",
       "      <td>2022-01-04</td>\n",
       "      <td>400</td>\n",
       "      <td>0</td>\n",
       "    </tr>\n",
       "    <tr>\n",
       "      <th>4</th>\n",
       "      <td>13809.358200</td>\n",
       "      <td>2022-01-05</td>\n",
       "      <td>400</td>\n",
       "      <td>0</td>\n",
       "    </tr>\n",
       "  </tbody>\n",
       "</table>\n",
       "</div>"
      ],
      "text/plain": [
       "         volume       date id_fish not sold\n",
       "0   5427.243552 2022-01-01     400        0\n",
       "1   3697.807036 2022-01-02     400        0\n",
       "2   7534.925352 2022-01-03     400        0\n",
       "3  20687.523994 2022-01-04     400        0\n",
       "4  13809.358200 2022-01-05     400        0"
      ]
     },
     "execution_count": 867,
     "metadata": {},
     "output_type": "execute_result"
    }
   ],
   "source": [
    "shipment_not_sold.to_csv('shipment_not_sold.csv', index=False)\n",
    "shipment_not_sold.head()"
   ]
  },
  {
   "cell_type": "code",
   "execution_count": 868,
   "id": "2926f9b1",
   "metadata": {},
   "outputs": [
    {
     "data": {
      "text/plain": [
       "(1101701, 6)"
      ]
     },
     "execution_count": 868,
     "metadata": {},
     "output_type": "execute_result"
    }
   ],
   "source": [
    "rating = pd.concat([bad_units, duplicates, sells_anomaly])\n",
    "rating.shape"
   ]
  },
  {
   "cell_type": "code",
   "execution_count": 869,
   "id": "3e64c51a",
   "metadata": {},
   "outputs": [],
   "source": [
    "rating.to_csv('rating.csv')"
   ]
  },
  {
   "cell_type": "code",
   "execution_count": null,
   "id": "6c29eefa",
   "metadata": {},
   "outputs": [],
   "source": []
  }
 ],
 "metadata": {
  "kernelspec": {
   "display_name": "Python 3 (ipykernel)",
   "language": "python",
   "name": "python3"
  },
  "language_info": {
   "codemirror_mode": {
    "name": "ipython",
    "version": 3
   },
   "file_extension": ".py",
   "mimetype": "text/x-python",
   "name": "python",
   "nbconvert_exporter": "python",
   "pygments_lexer": "ipython3",
   "version": "3.9.5"
  }
 },
 "nbformat": 4,
 "nbformat_minor": 5
}
