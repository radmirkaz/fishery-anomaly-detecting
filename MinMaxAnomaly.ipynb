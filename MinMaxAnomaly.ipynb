{
 "cells": [
  {
   "cell_type": "code",
   "execution_count": null,
   "id": "969dace9",
   "metadata": {},
   "outputs": [],
   "source": [
    "import json\n",
    "import pandas\n",
    "from tqdm import tqdm\n",
    "\n",
    "with open('data/fish_min_max.json', 'r') as f:\n",
    "    min_max_th = json.load(f)\n",
    "\n",
    "ext2['volume'] = ext2.unit.apply(lambda x: 1000 if x == 'тонна' else 1) * ext2.volume\n",
    "ext2 = ext2[ext2.unit != '\\\\N']\n",
    "outliers = []\n",
    "for elem in tqdm(ext2.fish.unique()): \n",
    "    outliers.append(ext2[(ext2.fish == elem) & ((ext2.volume > min_max_th[elem]['max']) | (ext2.volume < min_max_th[elem]['min']))])\n",
    "minmax_df = pd.concat(outliers).drop(columns='Unnamed: 0')\n",
    "minmax_df.to_csv('minmax_nikita_version.csv')"
   ]
  }
 ],
 "metadata": {
  "kernelspec": {
   "display_name": "Python 3",
   "language": "python",
   "name": "python3"
  },
  "language_info": {
   "codemirror_mode": {
    "name": "ipython",
    "version": 3
   },
   "file_extension": ".py",
   "mimetype": "text/x-python",
   "name": "python",
   "nbconvert_exporter": "python",
   "pygments_lexer": "ipython3",
   "version": "3.8.10"
  }
 },
 "nbformat": 4,
 "nbformat_minor": 5
}
